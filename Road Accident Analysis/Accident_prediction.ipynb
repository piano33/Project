{
  "nbformat": 4,
  "nbformat_minor": 0,
  "metadata": {
    "colab": {
      "provenance": [],
      "collapsed_sections": [
        "mc30UbgkRz4P",
        "j7AwrUX0Rbye",
        "cV8nYYQ1O3Bl",
        "2ef8mabdW83G",
        "hbT-U8lEqSZF"
      ]
    },
    "kernelspec": {
      "name": "python3",
      "display_name": "Python 3"
    },
    "language_info": {
      "name": "python"
    }
  },
  "cells": [
    {
      "cell_type": "code",
      "source": [
        "# import library\n",
        "import numpy as np\n",
        "import pandas as pd\n",
        "import seaborn as sns\n",
        "import matplotlib.pyplot as plt"
      ],
      "metadata": {
        "id": "uBkoyLq0KJRJ"
      },
      "execution_count": null,
      "outputs": []
    },
    {
      "cell_type": "code",
      "execution_count": null,
      "metadata": {
        "id": "Z-KdBhm_J54T",
        "colab": {
          "base_uri": "https://localhost:8080/",
          "height": 572
        },
        "outputId": "ebff69c6-02ff-47fa-8477-1d99c000b75b"
      },
      "outputs": [
        {
          "output_type": "execute_result",
          "data": {
            "text/plain": [
              "      Unnamed: 0  ปีที่เกิดเหตุ วันที่เกิดเหตุ   เวลา  \\\n",
              "0              0           2019       1/1/2019   3:05   \n",
              "1              1           2019       1/1/2019   5:42   \n",
              "2              2           2019       1/1/2019  10:10   \n",
              "3              3           2019       1/1/2019  17:30   \n",
              "4              4           2019       1/1/2019  19:20   \n",
              "...          ...            ...            ...    ...   \n",
              "5727        5727           2022      29/9/2022  23:40   \n",
              "5728        5728           2022      30/9/2022   9:21   \n",
              "5729        5729           2022      30/9/2022  18:04   \n",
              "5730        5730           2022      30/9/2022  18:48   \n",
              "5731        5731           2022      30/9/2022  21:33   \n",
              "\n",
              "                            สายทาง        จังหวัด  \\\n",
              "0                บางพลี-สุขสวัสดิ์  กรุงเทพมหานคร   \n",
              "1                     บางนา-ชลบุรี  กรุงเทพมหานคร   \n",
              "2                ดาวคะนอง -  แสมดำ  กรุงเทพมหานคร   \n",
              "3     อรุณอมรินทร์ - พุทธมณฑลสาย 4  กรุงเทพมหานคร   \n",
              "4     อรุณอมรินทร์ - พุทธมณฑลสาย 4  กรุงเทพมหานคร   \n",
              "...                            ...            ...   \n",
              "5727            รามอินทรา-อาจณรงค์  กรุงเทพมหานคร   \n",
              "5728               แจ้งวัฒนะ-พญาไท  กรุงเทพมหานคร   \n",
              "5729    แขวงคลองสองต้นนุ่น - พิมพา  กรุงเทพมหานคร   \n",
              "5730            รามอินทรา-อาจณรงค์  กรุงเทพมหานคร   \n",
              "5731                 พญาไท-บางโคล่  กรุงเทพมหานคร   \n",
              "\n",
              "                                   ประเภทรถ บริเวณที่เกิดเหตุ/ลักษณะทาง  \\\n",
              "0                                       NaN                       อื่นๆ   \n",
              "1                                     อื่นๆ                      ทางตรง   \n",
              "2     รถยนต์นั่งส่วนบุคคล/รถยนต์นั่งสาธารณะ      ทางตรง+ไม่มีความลาดชัน   \n",
              "3     รถยนต์นั่งส่วนบุคคล/รถยนต์นั่งสาธารณะ      ทางตรง+ไม่มีความลาดชัน   \n",
              "4                      รถปิคอัพบรรทุก 4 ล้อ      ทางตรง+ไม่มีความลาดชัน   \n",
              "...                                     ...                         ...   \n",
              "5727                                    NaN                      ทางตรง   \n",
              "5728                                    NaN                ทางโค้งกว้าง   \n",
              "5729                   รถปิคอัพบรรทุก 4 ล้อ      ทางตรง+ไม่มีความลาดชัน   \n",
              "5730                                    NaN                      ทางตรง   \n",
              "5731                                    NaN       ทางแยกต่างระดับ/Ramps   \n",
              "\n",
              "         ลักษณะการเกิดอุบัติเหตุ  จำนวนรถที่เกิดเหตุ (รวมคันที่ 1)  \\\n",
              "0                            NaN                                 1   \n",
              "1                            NaN                                 1   \n",
              "2                         ชนท้าย                                 2   \n",
              "3                         ชนท้าย                                 2   \n",
              "4                         ชนท้าย                                 2   \n",
              "...                          ...                               ...   \n",
              "5727                       อื่นๆ                                 1   \n",
              "5728  ชนสิ่งกีดขวาง (บนผิวจราจร)                                 1   \n",
              "5729                      ชนท้าย                                 3   \n",
              "5730                      ชนท้าย                                 4   \n",
              "5731  ชนสิ่งกีดขวาง (บนผิวจราจร)                                 1   \n",
              "\n",
              "      จำนวนผู้เสียชีวิต  รวมจำนวนผู้บาดเจ็บ สภาพอากาศ Condition  \n",
              "0                     0                   1    แจ่มใส      Fair  \n",
              "1                     0                   0    แจ่มใส      Fair  \n",
              "2                     0                   0    แจ่มใส      Fair  \n",
              "3                     0                   0    แจ่มใส      Fair  \n",
              "4                     0                   1    แจ่มใส      Fair  \n",
              "...                 ...                 ...       ...       ...  \n",
              "5727                  0                   0      ฝนตก       NaN  \n",
              "5728                  0                   0    แจ่มใส       NaN  \n",
              "5729                  0                   0    แจ่มใส       NaN  \n",
              "5730                  0                   0    แจ่มใส       NaN  \n",
              "5731                  0                   0    แจ่มใส       NaN  \n",
              "\n",
              "[5732 rows x 14 columns]"
            ],
            "text/html": [
              "\n",
              "  <div id=\"df-5f122b35-5e36-47bf-853c-1d337fd2a6bf\">\n",
              "    <div class=\"colab-df-container\">\n",
              "      <div>\n",
              "<style scoped>\n",
              "    .dataframe tbody tr th:only-of-type {\n",
              "        vertical-align: middle;\n",
              "    }\n",
              "\n",
              "    .dataframe tbody tr th {\n",
              "        vertical-align: top;\n",
              "    }\n",
              "\n",
              "    .dataframe thead th {\n",
              "        text-align: right;\n",
              "    }\n",
              "</style>\n",
              "<table border=\"1\" class=\"dataframe\">\n",
              "  <thead>\n",
              "    <tr style=\"text-align: right;\">\n",
              "      <th></th>\n",
              "      <th>Unnamed: 0</th>\n",
              "      <th>ปีที่เกิดเหตุ</th>\n",
              "      <th>วันที่เกิดเหตุ</th>\n",
              "      <th>เวลา</th>\n",
              "      <th>สายทาง</th>\n",
              "      <th>จังหวัด</th>\n",
              "      <th>ประเภทรถ</th>\n",
              "      <th>บริเวณที่เกิดเหตุ/ลักษณะทาง</th>\n",
              "      <th>ลักษณะการเกิดอุบัติเหตุ</th>\n",
              "      <th>จำนวนรถที่เกิดเหตุ (รวมคันที่ 1)</th>\n",
              "      <th>จำนวนผู้เสียชีวิต</th>\n",
              "      <th>รวมจำนวนผู้บาดเจ็บ</th>\n",
              "      <th>สภาพอากาศ</th>\n",
              "      <th>Condition</th>\n",
              "    </tr>\n",
              "  </thead>\n",
              "  <tbody>\n",
              "    <tr>\n",
              "      <th>0</th>\n",
              "      <td>0</td>\n",
              "      <td>2019</td>\n",
              "      <td>1/1/2019</td>\n",
              "      <td>3:05</td>\n",
              "      <td>บางพลี-สุขสวัสดิ์</td>\n",
              "      <td>กรุงเทพมหานคร</td>\n",
              "      <td>NaN</td>\n",
              "      <td>อื่นๆ</td>\n",
              "      <td>NaN</td>\n",
              "      <td>1</td>\n",
              "      <td>0</td>\n",
              "      <td>1</td>\n",
              "      <td>แจ่มใส</td>\n",
              "      <td>Fair</td>\n",
              "    </tr>\n",
              "    <tr>\n",
              "      <th>1</th>\n",
              "      <td>1</td>\n",
              "      <td>2019</td>\n",
              "      <td>1/1/2019</td>\n",
              "      <td>5:42</td>\n",
              "      <td>บางนา-ชลบุรี</td>\n",
              "      <td>กรุงเทพมหานคร</td>\n",
              "      <td>อื่นๆ</td>\n",
              "      <td>ทางตรง</td>\n",
              "      <td>NaN</td>\n",
              "      <td>1</td>\n",
              "      <td>0</td>\n",
              "      <td>0</td>\n",
              "      <td>แจ่มใส</td>\n",
              "      <td>Fair</td>\n",
              "    </tr>\n",
              "    <tr>\n",
              "      <th>2</th>\n",
              "      <td>2</td>\n",
              "      <td>2019</td>\n",
              "      <td>1/1/2019</td>\n",
              "      <td>10:10</td>\n",
              "      <td>ดาวคะนอง -  แสมดำ</td>\n",
              "      <td>กรุงเทพมหานคร</td>\n",
              "      <td>รถยนต์นั่งส่วนบุคคล/รถยนต์นั่งสาธารณะ</td>\n",
              "      <td>ทางตรง+ไม่มีความลาดชัน</td>\n",
              "      <td>ชนท้าย</td>\n",
              "      <td>2</td>\n",
              "      <td>0</td>\n",
              "      <td>0</td>\n",
              "      <td>แจ่มใส</td>\n",
              "      <td>Fair</td>\n",
              "    </tr>\n",
              "    <tr>\n",
              "      <th>3</th>\n",
              "      <td>3</td>\n",
              "      <td>2019</td>\n",
              "      <td>1/1/2019</td>\n",
              "      <td>17:30</td>\n",
              "      <td>อรุณอมรินทร์ - พุทธมณฑลสาย 4</td>\n",
              "      <td>กรุงเทพมหานคร</td>\n",
              "      <td>รถยนต์นั่งส่วนบุคคล/รถยนต์นั่งสาธารณะ</td>\n",
              "      <td>ทางตรง+ไม่มีความลาดชัน</td>\n",
              "      <td>ชนท้าย</td>\n",
              "      <td>2</td>\n",
              "      <td>0</td>\n",
              "      <td>0</td>\n",
              "      <td>แจ่มใส</td>\n",
              "      <td>Fair</td>\n",
              "    </tr>\n",
              "    <tr>\n",
              "      <th>4</th>\n",
              "      <td>4</td>\n",
              "      <td>2019</td>\n",
              "      <td>1/1/2019</td>\n",
              "      <td>19:20</td>\n",
              "      <td>อรุณอมรินทร์ - พุทธมณฑลสาย 4</td>\n",
              "      <td>กรุงเทพมหานคร</td>\n",
              "      <td>รถปิคอัพบรรทุก 4 ล้อ</td>\n",
              "      <td>ทางตรง+ไม่มีความลาดชัน</td>\n",
              "      <td>ชนท้าย</td>\n",
              "      <td>2</td>\n",
              "      <td>0</td>\n",
              "      <td>1</td>\n",
              "      <td>แจ่มใส</td>\n",
              "      <td>Fair</td>\n",
              "    </tr>\n",
              "    <tr>\n",
              "      <th>...</th>\n",
              "      <td>...</td>\n",
              "      <td>...</td>\n",
              "      <td>...</td>\n",
              "      <td>...</td>\n",
              "      <td>...</td>\n",
              "      <td>...</td>\n",
              "      <td>...</td>\n",
              "      <td>...</td>\n",
              "      <td>...</td>\n",
              "      <td>...</td>\n",
              "      <td>...</td>\n",
              "      <td>...</td>\n",
              "      <td>...</td>\n",
              "      <td>...</td>\n",
              "    </tr>\n",
              "    <tr>\n",
              "      <th>5727</th>\n",
              "      <td>5727</td>\n",
              "      <td>2022</td>\n",
              "      <td>29/9/2022</td>\n",
              "      <td>23:40</td>\n",
              "      <td>รามอินทรา-อาจณรงค์</td>\n",
              "      <td>กรุงเทพมหานคร</td>\n",
              "      <td>NaN</td>\n",
              "      <td>ทางตรง</td>\n",
              "      <td>อื่นๆ</td>\n",
              "      <td>1</td>\n",
              "      <td>0</td>\n",
              "      <td>0</td>\n",
              "      <td>ฝนตก</td>\n",
              "      <td>NaN</td>\n",
              "    </tr>\n",
              "    <tr>\n",
              "      <th>5728</th>\n",
              "      <td>5728</td>\n",
              "      <td>2022</td>\n",
              "      <td>30/9/2022</td>\n",
              "      <td>9:21</td>\n",
              "      <td>แจ้งวัฒนะ-พญาไท</td>\n",
              "      <td>กรุงเทพมหานคร</td>\n",
              "      <td>NaN</td>\n",
              "      <td>ทางโค้งกว้าง</td>\n",
              "      <td>ชนสิ่งกีดขวาง (บนผิวจราจร)</td>\n",
              "      <td>1</td>\n",
              "      <td>0</td>\n",
              "      <td>0</td>\n",
              "      <td>แจ่มใส</td>\n",
              "      <td>NaN</td>\n",
              "    </tr>\n",
              "    <tr>\n",
              "      <th>5729</th>\n",
              "      <td>5729</td>\n",
              "      <td>2022</td>\n",
              "      <td>30/9/2022</td>\n",
              "      <td>18:04</td>\n",
              "      <td>แขวงคลองสองต้นนุ่น - พิมพา</td>\n",
              "      <td>กรุงเทพมหานคร</td>\n",
              "      <td>รถปิคอัพบรรทุก 4 ล้อ</td>\n",
              "      <td>ทางตรง+ไม่มีความลาดชัน</td>\n",
              "      <td>ชนท้าย</td>\n",
              "      <td>3</td>\n",
              "      <td>0</td>\n",
              "      <td>0</td>\n",
              "      <td>แจ่มใส</td>\n",
              "      <td>NaN</td>\n",
              "    </tr>\n",
              "    <tr>\n",
              "      <th>5730</th>\n",
              "      <td>5730</td>\n",
              "      <td>2022</td>\n",
              "      <td>30/9/2022</td>\n",
              "      <td>18:48</td>\n",
              "      <td>รามอินทรา-อาจณรงค์</td>\n",
              "      <td>กรุงเทพมหานคร</td>\n",
              "      <td>NaN</td>\n",
              "      <td>ทางตรง</td>\n",
              "      <td>ชนท้าย</td>\n",
              "      <td>4</td>\n",
              "      <td>0</td>\n",
              "      <td>0</td>\n",
              "      <td>แจ่มใส</td>\n",
              "      <td>NaN</td>\n",
              "    </tr>\n",
              "    <tr>\n",
              "      <th>5731</th>\n",
              "      <td>5731</td>\n",
              "      <td>2022</td>\n",
              "      <td>30/9/2022</td>\n",
              "      <td>21:33</td>\n",
              "      <td>พญาไท-บางโคล่</td>\n",
              "      <td>กรุงเทพมหานคร</td>\n",
              "      <td>NaN</td>\n",
              "      <td>ทางแยกต่างระดับ/Ramps</td>\n",
              "      <td>ชนสิ่งกีดขวาง (บนผิวจราจร)</td>\n",
              "      <td>1</td>\n",
              "      <td>0</td>\n",
              "      <td>0</td>\n",
              "      <td>แจ่มใส</td>\n",
              "      <td>NaN</td>\n",
              "    </tr>\n",
              "  </tbody>\n",
              "</table>\n",
              "<p>5732 rows × 14 columns</p>\n",
              "</div>\n",
              "      <button class=\"colab-df-convert\" onclick=\"convertToInteractive('df-5f122b35-5e36-47bf-853c-1d337fd2a6bf')\"\n",
              "              title=\"Convert this dataframe to an interactive table.\"\n",
              "              style=\"display:none;\">\n",
              "        \n",
              "  <svg xmlns=\"http://www.w3.org/2000/svg\" height=\"24px\"viewBox=\"0 0 24 24\"\n",
              "       width=\"24px\">\n",
              "    <path d=\"M0 0h24v24H0V0z\" fill=\"none\"/>\n",
              "    <path d=\"M18.56 5.44l.94 2.06.94-2.06 2.06-.94-2.06-.94-.94-2.06-.94 2.06-2.06.94zm-11 1L8.5 8.5l.94-2.06 2.06-.94-2.06-.94L8.5 2.5l-.94 2.06-2.06.94zm10 10l.94 2.06.94-2.06 2.06-.94-2.06-.94-.94-2.06-.94 2.06-2.06.94z\"/><path d=\"M17.41 7.96l-1.37-1.37c-.4-.4-.92-.59-1.43-.59-.52 0-1.04.2-1.43.59L10.3 9.45l-7.72 7.72c-.78.78-.78 2.05 0 2.83L4 21.41c.39.39.9.59 1.41.59.51 0 1.02-.2 1.41-.59l7.78-7.78 2.81-2.81c.8-.78.8-2.07 0-2.86zM5.41 20L4 18.59l7.72-7.72 1.47 1.35L5.41 20z\"/>\n",
              "  </svg>\n",
              "      </button>\n",
              "      \n",
              "  <style>\n",
              "    .colab-df-container {\n",
              "      display:flex;\n",
              "      flex-wrap:wrap;\n",
              "      gap: 12px;\n",
              "    }\n",
              "\n",
              "    .colab-df-convert {\n",
              "      background-color: #E8F0FE;\n",
              "      border: none;\n",
              "      border-radius: 50%;\n",
              "      cursor: pointer;\n",
              "      display: none;\n",
              "      fill: #1967D2;\n",
              "      height: 32px;\n",
              "      padding: 0 0 0 0;\n",
              "      width: 32px;\n",
              "    }\n",
              "\n",
              "    .colab-df-convert:hover {\n",
              "      background-color: #E2EBFA;\n",
              "      box-shadow: 0px 1px 2px rgba(60, 64, 67, 0.3), 0px 1px 3px 1px rgba(60, 64, 67, 0.15);\n",
              "      fill: #174EA6;\n",
              "    }\n",
              "\n",
              "    [theme=dark] .colab-df-convert {\n",
              "      background-color: #3B4455;\n",
              "      fill: #D2E3FC;\n",
              "    }\n",
              "\n",
              "    [theme=dark] .colab-df-convert:hover {\n",
              "      background-color: #434B5C;\n",
              "      box-shadow: 0px 1px 3px 1px rgba(0, 0, 0, 0.15);\n",
              "      filter: drop-shadow(0px 1px 2px rgba(0, 0, 0, 0.3));\n",
              "      fill: #FFFFFF;\n",
              "    }\n",
              "  </style>\n",
              "\n",
              "      <script>\n",
              "        const buttonEl =\n",
              "          document.querySelector('#df-5f122b35-5e36-47bf-853c-1d337fd2a6bf button.colab-df-convert');\n",
              "        buttonEl.style.display =\n",
              "          google.colab.kernel.accessAllowed ? 'block' : 'none';\n",
              "\n",
              "        async function convertToInteractive(key) {\n",
              "          const element = document.querySelector('#df-5f122b35-5e36-47bf-853c-1d337fd2a6bf');\n",
              "          const dataTable =\n",
              "            await google.colab.kernel.invokeFunction('convertToInteractive',\n",
              "                                                     [key], {});\n",
              "          if (!dataTable) return;\n",
              "\n",
              "          const docLinkHtml = 'Like what you see? Visit the ' +\n",
              "            '<a target=\"_blank\" href=https://colab.research.google.com/notebooks/data_table.ipynb>data table notebook</a>'\n",
              "            + ' to learn more about interactive tables.';\n",
              "          element.innerHTML = '';\n",
              "          dataTable['output_type'] = 'display_data';\n",
              "          await google.colab.output.renderOutput(dataTable, element);\n",
              "          const docLink = document.createElement('div');\n",
              "          docLink.innerHTML = docLinkHtml;\n",
              "          element.appendChild(docLink);\n",
              "        }\n",
              "      </script>\n",
              "    </div>\n",
              "  </div>\n",
              "  "
            ]
          },
          "metadata": {},
          "execution_count": 2
        }
      ],
      "source": [
        "# Get Data\n",
        "url = 'https://raw.githubusercontent.com/rawisara01/DSI314/main/Gradient%20boosting%20classifier/combined_files.csv'\n",
        "df =pd.read_csv(url)\n",
        "df"
      ]
    },
    {
      "cell_type": "code",
      "source": [
        "# ลบคอลัมน์ที่ไม่ได้ใช้งาน\n",
        "df.drop(['Unnamed: 0', 'ปีที่เกิดเหตุ', 'ลักษณะการเกิดอุบัติเหตุ', 'จำนวนรถที่เกิดเหตุ (รวมคันที่ 1)', 'จังหวัด', 'สภาพอากาศ'], inplace=True, axis=1)"
      ],
      "metadata": {
        "id": "gKFbekPPKKXT"
      },
      "execution_count": null,
      "outputs": []
    },
    {
      "cell_type": "code",
      "source": [
        "#เปลี่ยนชื่อคอลัมน์\n",
        "df.rename(columns = {'วันที่เกิดเหตุ':'date_acc', \n",
        "                     'เวลา':'time_acc', \n",
        "                     'สายทาง':'route_acc', \n",
        "                     'ประเภทรถ':'type_acc', \n",
        "                     'บริเวณที่เกิดเหตุ/ลักษณะทาง':'scene/road surface', \n",
        "                     'จำนวนผู้เสียชีวิต':'num_death', \n",
        "                     'รวมจำนวนผู้บาดเจ็บ':'num_injured', \n",
        "                     'สภาพอากาศ':'climate_acc','Condition':'cnd_acc'}, inplace = True)"
      ],
      "metadata": {
        "id": "T5t87y9VKYer"
      },
      "execution_count": null,
      "outputs": []
    },
    {
      "cell_type": "code",
      "source": [
        "df.info()"
      ],
      "metadata": {
        "colab": {
          "base_uri": "https://localhost:8080/"
        },
        "id": "FjEb2MZHKbli",
        "outputId": "d8b996ba-432b-4492-dc25-c9d546cd5a09"
      },
      "execution_count": null,
      "outputs": [
        {
          "output_type": "stream",
          "name": "stdout",
          "text": [
            "<class 'pandas.core.frame.DataFrame'>\n",
            "RangeIndex: 5732 entries, 0 to 5731\n",
            "Data columns (total 8 columns):\n",
            " #   Column              Non-Null Count  Dtype \n",
            "---  ------              --------------  ----- \n",
            " 0   date_acc            5732 non-null   object\n",
            " 1   time_acc            5732 non-null   object\n",
            " 2   route_acc           5725 non-null   object\n",
            " 3   type_acc            5060 non-null   object\n",
            " 4   scene/road surface  5312 non-null   object\n",
            " 5   num_death           5732 non-null   int64 \n",
            " 6   num_injured         5732 non-null   int64 \n",
            " 7   cnd_acc             5687 non-null   object\n",
            "dtypes: int64(2), object(6)\n",
            "memory usage: 358.4+ KB\n"
          ]
        }
      ]
    },
    {
      "cell_type": "markdown",
      "source": [
        "#Data Preprocessing"
      ],
      "metadata": {
        "id": "Uy0Z89kOM-BU"
      }
    },
    {
      "cell_type": "code",
      "source": [
        "# แยก date_acc และสร้างคอลัมน์ date_acc, month_acc, years_acc\n",
        "df[['day_acc', 'month_acc', 'years_acc']] = df['date_acc'].str.split('/', expand=True)\n",
        "df = df.drop(columns=[\"date_acc\", ])\n",
        "\n",
        "# แยก time_acc และสร้างคอลัมน์ hours_acc, minutes_acc \n",
        "df[['hours_acc', 'minutes_acc']] = df['time_acc'].str.split(':', expand=True)\n",
        "df = df.drop(columns=[\"time_acc\"])\n",
        "\n",
        "# แยก scene/road surface และสร้างคอลัมน์ scene_acc, road_surface\n",
        "df[['scene_acc', 'road_surface']] = df['scene/road surface'].str.split('+', expand=True)\n",
        "df = df.drop(columns=[\"scene/road surface\"])\n",
        "df"
      ],
      "metadata": {
        "colab": {
          "base_uri": "https://localhost:8080/",
          "height": 424
        },
        "id": "4bKUhuGdMLvg",
        "outputId": "5ab610a0-7a0e-42d2-ed22-787d77acd9ff"
      },
      "execution_count": null,
      "outputs": [
        {
          "output_type": "execute_result",
          "data": {
            "text/plain": [
              "                         route_acc                               type_acc  \\\n",
              "0                บางพลี-สุขสวัสดิ์                                    NaN   \n",
              "1                     บางนา-ชลบุรี                                  อื่นๆ   \n",
              "2                ดาวคะนอง -  แสมดำ  รถยนต์นั่งส่วนบุคคล/รถยนต์นั่งสาธารณะ   \n",
              "3     อรุณอมรินทร์ - พุทธมณฑลสาย 4  รถยนต์นั่งส่วนบุคคล/รถยนต์นั่งสาธารณะ   \n",
              "4     อรุณอมรินทร์ - พุทธมณฑลสาย 4                   รถปิคอัพบรรทุก 4 ล้อ   \n",
              "...                            ...                                    ...   \n",
              "5727            รามอินทรา-อาจณรงค์                                    NaN   \n",
              "5728               แจ้งวัฒนะ-พญาไท                                    NaN   \n",
              "5729    แขวงคลองสองต้นนุ่น - พิมพา                   รถปิคอัพบรรทุก 4 ล้อ   \n",
              "5730            รามอินทรา-อาจณรงค์                                    NaN   \n",
              "5731                 พญาไท-บางโคล่                                    NaN   \n",
              "\n",
              "      num_death  num_injured cnd_acc day_acc month_acc years_acc hours_acc  \\\n",
              "0             0            1    Fair       1         1      2019         3   \n",
              "1             0            0    Fair       1         1      2019         5   \n",
              "2             0            0    Fair       1         1      2019        10   \n",
              "3             0            0    Fair       1         1      2019        17   \n",
              "4             0            1    Fair       1         1      2019        19   \n",
              "...         ...          ...     ...     ...       ...       ...       ...   \n",
              "5727          0            0     NaN      29         9      2022        23   \n",
              "5728          0            0     NaN      30         9      2022         9   \n",
              "5729          0            0     NaN      30         9      2022        18   \n",
              "5730          0            0     NaN      30         9      2022        18   \n",
              "5731          0            0     NaN      30         9      2022        21   \n",
              "\n",
              "     minutes_acc              scene_acc     road_surface  \n",
              "0             05                  อื่นๆ             None  \n",
              "1             42                 ทางตรง             None  \n",
              "2             10                 ทางตรง  ไม่มีความลาดชัน  \n",
              "3             30                 ทางตรง  ไม่มีความลาดชัน  \n",
              "4             20                 ทางตรง  ไม่มีความลาดชัน  \n",
              "...          ...                    ...              ...  \n",
              "5727          40                 ทางตรง             None  \n",
              "5728          21           ทางโค้งกว้าง             None  \n",
              "5729          04                 ทางตรง  ไม่มีความลาดชัน  \n",
              "5730          48                 ทางตรง             None  \n",
              "5731          33  ทางแยกต่างระดับ/Ramps             None  \n",
              "\n",
              "[5732 rows x 12 columns]"
            ],
            "text/html": [
              "\n",
              "  <div id=\"df-e4fb14bc-08f3-49c5-ba29-8fc5f6d15fa0\">\n",
              "    <div class=\"colab-df-container\">\n",
              "      <div>\n",
              "<style scoped>\n",
              "    .dataframe tbody tr th:only-of-type {\n",
              "        vertical-align: middle;\n",
              "    }\n",
              "\n",
              "    .dataframe tbody tr th {\n",
              "        vertical-align: top;\n",
              "    }\n",
              "\n",
              "    .dataframe thead th {\n",
              "        text-align: right;\n",
              "    }\n",
              "</style>\n",
              "<table border=\"1\" class=\"dataframe\">\n",
              "  <thead>\n",
              "    <tr style=\"text-align: right;\">\n",
              "      <th></th>\n",
              "      <th>route_acc</th>\n",
              "      <th>type_acc</th>\n",
              "      <th>num_death</th>\n",
              "      <th>num_injured</th>\n",
              "      <th>cnd_acc</th>\n",
              "      <th>day_acc</th>\n",
              "      <th>month_acc</th>\n",
              "      <th>years_acc</th>\n",
              "      <th>hours_acc</th>\n",
              "      <th>minutes_acc</th>\n",
              "      <th>scene_acc</th>\n",
              "      <th>road_surface</th>\n",
              "    </tr>\n",
              "  </thead>\n",
              "  <tbody>\n",
              "    <tr>\n",
              "      <th>0</th>\n",
              "      <td>บางพลี-สุขสวัสดิ์</td>\n",
              "      <td>NaN</td>\n",
              "      <td>0</td>\n",
              "      <td>1</td>\n",
              "      <td>Fair</td>\n",
              "      <td>1</td>\n",
              "      <td>1</td>\n",
              "      <td>2019</td>\n",
              "      <td>3</td>\n",
              "      <td>05</td>\n",
              "      <td>อื่นๆ</td>\n",
              "      <td>None</td>\n",
              "    </tr>\n",
              "    <tr>\n",
              "      <th>1</th>\n",
              "      <td>บางนา-ชลบุรี</td>\n",
              "      <td>อื่นๆ</td>\n",
              "      <td>0</td>\n",
              "      <td>0</td>\n",
              "      <td>Fair</td>\n",
              "      <td>1</td>\n",
              "      <td>1</td>\n",
              "      <td>2019</td>\n",
              "      <td>5</td>\n",
              "      <td>42</td>\n",
              "      <td>ทางตรง</td>\n",
              "      <td>None</td>\n",
              "    </tr>\n",
              "    <tr>\n",
              "      <th>2</th>\n",
              "      <td>ดาวคะนอง -  แสมดำ</td>\n",
              "      <td>รถยนต์นั่งส่วนบุคคล/รถยนต์นั่งสาธารณะ</td>\n",
              "      <td>0</td>\n",
              "      <td>0</td>\n",
              "      <td>Fair</td>\n",
              "      <td>1</td>\n",
              "      <td>1</td>\n",
              "      <td>2019</td>\n",
              "      <td>10</td>\n",
              "      <td>10</td>\n",
              "      <td>ทางตรง</td>\n",
              "      <td>ไม่มีความลาดชัน</td>\n",
              "    </tr>\n",
              "    <tr>\n",
              "      <th>3</th>\n",
              "      <td>อรุณอมรินทร์ - พุทธมณฑลสาย 4</td>\n",
              "      <td>รถยนต์นั่งส่วนบุคคล/รถยนต์นั่งสาธารณะ</td>\n",
              "      <td>0</td>\n",
              "      <td>0</td>\n",
              "      <td>Fair</td>\n",
              "      <td>1</td>\n",
              "      <td>1</td>\n",
              "      <td>2019</td>\n",
              "      <td>17</td>\n",
              "      <td>30</td>\n",
              "      <td>ทางตรง</td>\n",
              "      <td>ไม่มีความลาดชัน</td>\n",
              "    </tr>\n",
              "    <tr>\n",
              "      <th>4</th>\n",
              "      <td>อรุณอมรินทร์ - พุทธมณฑลสาย 4</td>\n",
              "      <td>รถปิคอัพบรรทุก 4 ล้อ</td>\n",
              "      <td>0</td>\n",
              "      <td>1</td>\n",
              "      <td>Fair</td>\n",
              "      <td>1</td>\n",
              "      <td>1</td>\n",
              "      <td>2019</td>\n",
              "      <td>19</td>\n",
              "      <td>20</td>\n",
              "      <td>ทางตรง</td>\n",
              "      <td>ไม่มีความลาดชัน</td>\n",
              "    </tr>\n",
              "    <tr>\n",
              "      <th>...</th>\n",
              "      <td>...</td>\n",
              "      <td>...</td>\n",
              "      <td>...</td>\n",
              "      <td>...</td>\n",
              "      <td>...</td>\n",
              "      <td>...</td>\n",
              "      <td>...</td>\n",
              "      <td>...</td>\n",
              "      <td>...</td>\n",
              "      <td>...</td>\n",
              "      <td>...</td>\n",
              "      <td>...</td>\n",
              "    </tr>\n",
              "    <tr>\n",
              "      <th>5727</th>\n",
              "      <td>รามอินทรา-อาจณรงค์</td>\n",
              "      <td>NaN</td>\n",
              "      <td>0</td>\n",
              "      <td>0</td>\n",
              "      <td>NaN</td>\n",
              "      <td>29</td>\n",
              "      <td>9</td>\n",
              "      <td>2022</td>\n",
              "      <td>23</td>\n",
              "      <td>40</td>\n",
              "      <td>ทางตรง</td>\n",
              "      <td>None</td>\n",
              "    </tr>\n",
              "    <tr>\n",
              "      <th>5728</th>\n",
              "      <td>แจ้งวัฒนะ-พญาไท</td>\n",
              "      <td>NaN</td>\n",
              "      <td>0</td>\n",
              "      <td>0</td>\n",
              "      <td>NaN</td>\n",
              "      <td>30</td>\n",
              "      <td>9</td>\n",
              "      <td>2022</td>\n",
              "      <td>9</td>\n",
              "      <td>21</td>\n",
              "      <td>ทางโค้งกว้าง</td>\n",
              "      <td>None</td>\n",
              "    </tr>\n",
              "    <tr>\n",
              "      <th>5729</th>\n",
              "      <td>แขวงคลองสองต้นนุ่น - พิมพา</td>\n",
              "      <td>รถปิคอัพบรรทุก 4 ล้อ</td>\n",
              "      <td>0</td>\n",
              "      <td>0</td>\n",
              "      <td>NaN</td>\n",
              "      <td>30</td>\n",
              "      <td>9</td>\n",
              "      <td>2022</td>\n",
              "      <td>18</td>\n",
              "      <td>04</td>\n",
              "      <td>ทางตรง</td>\n",
              "      <td>ไม่มีความลาดชัน</td>\n",
              "    </tr>\n",
              "    <tr>\n",
              "      <th>5730</th>\n",
              "      <td>รามอินทรา-อาจณรงค์</td>\n",
              "      <td>NaN</td>\n",
              "      <td>0</td>\n",
              "      <td>0</td>\n",
              "      <td>NaN</td>\n",
              "      <td>30</td>\n",
              "      <td>9</td>\n",
              "      <td>2022</td>\n",
              "      <td>18</td>\n",
              "      <td>48</td>\n",
              "      <td>ทางตรง</td>\n",
              "      <td>None</td>\n",
              "    </tr>\n",
              "    <tr>\n",
              "      <th>5731</th>\n",
              "      <td>พญาไท-บางโคล่</td>\n",
              "      <td>NaN</td>\n",
              "      <td>0</td>\n",
              "      <td>0</td>\n",
              "      <td>NaN</td>\n",
              "      <td>30</td>\n",
              "      <td>9</td>\n",
              "      <td>2022</td>\n",
              "      <td>21</td>\n",
              "      <td>33</td>\n",
              "      <td>ทางแยกต่างระดับ/Ramps</td>\n",
              "      <td>None</td>\n",
              "    </tr>\n",
              "  </tbody>\n",
              "</table>\n",
              "<p>5732 rows × 12 columns</p>\n",
              "</div>\n",
              "      <button class=\"colab-df-convert\" onclick=\"convertToInteractive('df-e4fb14bc-08f3-49c5-ba29-8fc5f6d15fa0')\"\n",
              "              title=\"Convert this dataframe to an interactive table.\"\n",
              "              style=\"display:none;\">\n",
              "        \n",
              "  <svg xmlns=\"http://www.w3.org/2000/svg\" height=\"24px\"viewBox=\"0 0 24 24\"\n",
              "       width=\"24px\">\n",
              "    <path d=\"M0 0h24v24H0V0z\" fill=\"none\"/>\n",
              "    <path d=\"M18.56 5.44l.94 2.06.94-2.06 2.06-.94-2.06-.94-.94-2.06-.94 2.06-2.06.94zm-11 1L8.5 8.5l.94-2.06 2.06-.94-2.06-.94L8.5 2.5l-.94 2.06-2.06.94zm10 10l.94 2.06.94-2.06 2.06-.94-2.06-.94-.94-2.06-.94 2.06-2.06.94z\"/><path d=\"M17.41 7.96l-1.37-1.37c-.4-.4-.92-.59-1.43-.59-.52 0-1.04.2-1.43.59L10.3 9.45l-7.72 7.72c-.78.78-.78 2.05 0 2.83L4 21.41c.39.39.9.59 1.41.59.51 0 1.02-.2 1.41-.59l7.78-7.78 2.81-2.81c.8-.78.8-2.07 0-2.86zM5.41 20L4 18.59l7.72-7.72 1.47 1.35L5.41 20z\"/>\n",
              "  </svg>\n",
              "      </button>\n",
              "      \n",
              "  <style>\n",
              "    .colab-df-container {\n",
              "      display:flex;\n",
              "      flex-wrap:wrap;\n",
              "      gap: 12px;\n",
              "    }\n",
              "\n",
              "    .colab-df-convert {\n",
              "      background-color: #E8F0FE;\n",
              "      border: none;\n",
              "      border-radius: 50%;\n",
              "      cursor: pointer;\n",
              "      display: none;\n",
              "      fill: #1967D2;\n",
              "      height: 32px;\n",
              "      padding: 0 0 0 0;\n",
              "      width: 32px;\n",
              "    }\n",
              "\n",
              "    .colab-df-convert:hover {\n",
              "      background-color: #E2EBFA;\n",
              "      box-shadow: 0px 1px 2px rgba(60, 64, 67, 0.3), 0px 1px 3px 1px rgba(60, 64, 67, 0.15);\n",
              "      fill: #174EA6;\n",
              "    }\n",
              "\n",
              "    [theme=dark] .colab-df-convert {\n",
              "      background-color: #3B4455;\n",
              "      fill: #D2E3FC;\n",
              "    }\n",
              "\n",
              "    [theme=dark] .colab-df-convert:hover {\n",
              "      background-color: #434B5C;\n",
              "      box-shadow: 0px 1px 3px 1px rgba(0, 0, 0, 0.15);\n",
              "      filter: drop-shadow(0px 1px 2px rgba(0, 0, 0, 0.3));\n",
              "      fill: #FFFFFF;\n",
              "    }\n",
              "  </style>\n",
              "\n",
              "      <script>\n",
              "        const buttonEl =\n",
              "          document.querySelector('#df-e4fb14bc-08f3-49c5-ba29-8fc5f6d15fa0 button.colab-df-convert');\n",
              "        buttonEl.style.display =\n",
              "          google.colab.kernel.accessAllowed ? 'block' : 'none';\n",
              "\n",
              "        async function convertToInteractive(key) {\n",
              "          const element = document.querySelector('#df-e4fb14bc-08f3-49c5-ba29-8fc5f6d15fa0');\n",
              "          const dataTable =\n",
              "            await google.colab.kernel.invokeFunction('convertToInteractive',\n",
              "                                                     [key], {});\n",
              "          if (!dataTable) return;\n",
              "\n",
              "          const docLinkHtml = 'Like what you see? Visit the ' +\n",
              "            '<a target=\"_blank\" href=https://colab.research.google.com/notebooks/data_table.ipynb>data table notebook</a>'\n",
              "            + ' to learn more about interactive tables.';\n",
              "          element.innerHTML = '';\n",
              "          dataTable['output_type'] = 'display_data';\n",
              "          await google.colab.output.renderOutput(dataTable, element);\n",
              "          const docLink = document.createElement('div');\n",
              "          docLink.innerHTML = docLinkHtml;\n",
              "          element.appendChild(docLink);\n",
              "        }\n",
              "      </script>\n",
              "    </div>\n",
              "  </div>\n",
              "  "
            ]
          },
          "metadata": {},
          "execution_count": 6
        }
      ]
    },
    {
      "cell_type": "code",
      "source": [
        "df.info()"
      ],
      "metadata": {
        "colab": {
          "base_uri": "https://localhost:8080/"
        },
        "id": "jafGIltpJVpq",
        "outputId": "f006815a-d1c1-4610-9ac3-4dd066ff403c"
      },
      "execution_count": null,
      "outputs": [
        {
          "output_type": "stream",
          "name": "stdout",
          "text": [
            "<class 'pandas.core.frame.DataFrame'>\n",
            "RangeIndex: 5732 entries, 0 to 5731\n",
            "Data columns (total 12 columns):\n",
            " #   Column        Non-Null Count  Dtype \n",
            "---  ------        --------------  ----- \n",
            " 0   route_acc     5725 non-null   object\n",
            " 1   type_acc      5060 non-null   object\n",
            " 2   num_death     5732 non-null   int64 \n",
            " 3   num_injured   5732 non-null   int64 \n",
            " 4   cnd_acc       5687 non-null   object\n",
            " 5   day_acc       5732 non-null   object\n",
            " 6   month_acc     5732 non-null   object\n",
            " 7   years_acc     5732 non-null   object\n",
            " 8   hours_acc     5732 non-null   object\n",
            " 9   minutes_acc   5732 non-null   object\n",
            " 10  scene_acc     5312 non-null   object\n",
            " 11  road_surface  4422 non-null   object\n",
            "dtypes: int64(2), object(10)\n",
            "memory usage: 537.5+ KB\n"
          ]
        }
      ]
    },
    {
      "cell_type": "code",
      "source": [
        "# แปลงข้อมูลให้เป็น int ตามความเหมาะสม\n",
        "df[['hours_acc', 'minutes_acc']] = df[['hours_acc', 'minutes_acc']].astype(str).astype(int)"
      ],
      "metadata": {
        "id": "4bCBcRaEMLi-"
      },
      "execution_count": null,
      "outputs": []
    },
    {
      "cell_type": "code",
      "source": [
        "# สร้างเงื่อนไขสำหรับช่วงเวลา\n",
        "conditions_time = [\n",
        "    (df['hours_acc'] >= 0) & (df['hours_acc'] <= 3),\n",
        "    (df['hours_acc'] >= 4) & (df['hours_acc'] <= 7),\n",
        "    (df['hours_acc'] >= 8) & (df['hours_acc'] <= 11),\n",
        "    (df['hours_acc'] >= 12) & (df['hours_acc'] <= 15),\n",
        "    (df['hours_acc'] >= 16) & (df['hours_acc'] <= 19),\n",
        "    (df['hours_acc'] >= 20) & (df['hours_acc'] <= 23),\n",
        "    ]\n",
        "\n",
        "# แบ่งช่วงเวลา\n",
        "values_time = ['0', '1', '2', '3', '4','5']\n",
        "\n",
        "# สร้างคอลัมน์ time\n",
        "df['time_acc'] = np.select(conditions_time, values_time)"
      ],
      "metadata": {
        "id": "k6t4ayQzNJlF"
      },
      "execution_count": null,
      "outputs": []
    },
    {
      "cell_type": "code",
      "source": [
        "# สร้างเงื่อนไขสำหรับระดับความรุนแรง\n",
        "conditions_acc = [\n",
        "    (df['num_injured'] <= 0) & (df['num_death'] <= 0),\n",
        "    (df['num_injured'] > 0) & (df['num_death'] <= 0),\n",
        "    (df['num_injured'] >= 0) & (df['num_death'] > 0),\n",
        "    ]\n",
        "\n",
        "# แบ่งระดับความรุนแรง\n",
        "values_acc = [ 'ACC', 'INJ', 'DIE' ]\n",
        "\n",
        "# สร้างคอลลัมน์ Level_acc\n",
        "df['level_acc'] = np.select(conditions_acc, values_acc)\n",
        "\n",
        "df = df.drop(columns=[\"num_injured\"])\n",
        "df = df.drop(columns=[\"num_death\"])"
      ],
      "metadata": {
        "id": "2GmveisXNLak"
      },
      "execution_count": null,
      "outputs": []
    },
    {
      "cell_type": "code",
      "source": [
        "df.dtypes"
      ],
      "metadata": {
        "colab": {
          "base_uri": "https://localhost:8080/"
        },
        "id": "F-qQnMbpOe6F",
        "outputId": "95184b70-c4e3-4530-8228-8c982206fd92"
      },
      "execution_count": null,
      "outputs": [
        {
          "output_type": "execute_result",
          "data": {
            "text/plain": [
              "route_acc       object\n",
              "type_acc        object\n",
              "cnd_acc         object\n",
              "day_acc         object\n",
              "month_acc       object\n",
              "years_acc       object\n",
              "hours_acc        int64\n",
              "minutes_acc      int64\n",
              "scene_acc       object\n",
              "road_surface    object\n",
              "time_acc        object\n",
              "level_acc       object\n",
              "dtype: object"
            ]
          },
          "metadata": {},
          "execution_count": 12
        }
      ]
    },
    {
      "cell_type": "code",
      "source": [
        "# ตรวจสอบจำนวน missing values\n",
        "df.isnull().sum()"
      ],
      "metadata": {
        "colab": {
          "base_uri": "https://localhost:8080/"
        },
        "id": "mBl99zaQHX14",
        "outputId": "ec85104e-a50b-45eb-b47f-08ed7afa5ec1"
      },
      "execution_count": null,
      "outputs": [
        {
          "output_type": "execute_result",
          "data": {
            "text/plain": [
              "route_acc          7\n",
              "type_acc         672\n",
              "cnd_acc           45\n",
              "day_acc            0\n",
              "month_acc          0\n",
              "years_acc          0\n",
              "hours_acc          0\n",
              "minutes_acc        0\n",
              "scene_acc        420\n",
              "road_surface    1310\n",
              "time_acc           0\n",
              "level_acc          0\n",
              "dtype: int64"
            ]
          },
          "metadata": {},
          "execution_count": 13
        }
      ]
    },
    {
      "cell_type": "code",
      "source": [
        "# เติม missing values ด้วย bfill\n",
        "df['cnd_acc'].fillna(df['cnd_acc'].bfill()[0], inplace=True)\n",
        "df['type_acc'].fillna(df['type_acc'].bfill()[0], inplace=True)\n",
        "df['road_surface'].fillna(df['road_surface'].bfill()[0], inplace=True)\n",
        "df['scene_acc'].fillna(df['scene_acc'].bfill()[0], inplace=True)"
      ],
      "metadata": {
        "id": "gffmcM4wHbqe"
      },
      "execution_count": null,
      "outputs": []
    },
    {
      "cell_type": "markdown",
      "source": [
        "--------------------------------------------------------------------"
      ],
      "metadata": {
        "id": "RN-rFpZtRxnj"
      }
    },
    {
      "cell_type": "markdown",
      "source": [
        "#Exploratory Data Analysis (EDA)"
      ],
      "metadata": {
        "id": "mc30UbgkRz4P"
      }
    },
    {
      "cell_type": "code",
      "source": [
        "# copy df to df_EDA\n",
        "df_EDA = df.copy()\n",
        "\n",
        "# ลบคอลัมน์ที่ไม่ใช้งาน\n",
        "df_EDA.drop('route_acc', inplace=True, axis=1)"
      ],
      "metadata": {
        "id": "bwvcOdA4SfL1"
      },
      "execution_count": null,
      "outputs": []
    },
    {
      "cell_type": "code",
      "source": [
        "# โหลด font ภาษาไทยสำหรับการ plot กราฟ\n",
        "!wget -q https://github.com/Phonbopit/sarabun-webfont/raw/master/fonts/thsarabunnew-webfont.ttf\n",
        " \n",
        "import matplotlib as mpl\n",
        "mpl.font_manager.fontManager.addfont('thsarabunnew-webfont.ttf')\n",
        "mpl.rc('font', family='TH Sarabun New')"
      ],
      "metadata": {
        "id": "UZHjGdShaMIi"
      },
      "execution_count": null,
      "outputs": []
    },
    {
      "cell_type": "code",
      "source": [
        "# สร้างฟังก์ชันสำหรับกราฟแท่ง\n",
        "def val_count_BarPlot(data=None, count_cols=None):\n",
        "      data_count = data[count_cols].value_counts()\n",
        "      fig, ax = plt.subplots(figsize=(8, 6))\n",
        "      pbar = ax.bar(data_count.index.astype(str), data_count.values)\n",
        "      # ax.bar_label(pbar, [num for num in data_count.values])\n",
        "      ax.set_title(f\"{count_cols} values count\")\n",
        "      plt.show"
      ],
      "metadata": {
        "id": "PBQOvZ2mUJUg"
      },
      "execution_count": null,
      "outputs": []
    },
    {
      "cell_type": "code",
      "source": [
        "# กราฟแท่งของระดับความรุนแรง\n",
        "val_count_BarPlot(data=df_EDA, count_cols='level_acc')"
      ],
      "metadata": {
        "colab": {
          "base_uri": "https://localhost:8080/",
          "height": 389
        },
        "id": "nPLNMlMoUbSZ",
        "outputId": "f9a99108-e48b-4813-a5e2-90d37355c9eb"
      },
      "execution_count": null,
      "outputs": [
        {
          "output_type": "display_data",
          "data": {
            "text/plain": [
              "<Figure size 576x432 with 1 Axes>"
            ],
            "image/png": "[encoded data removed]"
          },
          "metadata": {
            "needs_background": "light"
          }
        }
      ]
    },
    {
      "cell_type": "code",
      "source": [
        "# จำนวนของระดับความรุนแรง\n",
        "df_EDA.level_acc.value_counts()"
      ],
      "metadata": {
        "colab": {
          "base_uri": "https://localhost:8080/"
        },
        "id": "iMz2IBSLjcZE",
        "outputId": "22ee5657-123c-48f4-e3fd-3be88a16eac5"
      },
      "execution_count": null,
      "outputs": [
        {
          "output_type": "execute_result",
          "data": {
            "text/plain": [
              "ACC    3884\n",
              "INJ    1744\n",
              "DIE     104\n",
              "Name: level_acc, dtype: int64"
            ]
          },
          "metadata": {},
          "execution_count": 17
        }
      ]
    },
    {
      "cell_type": "code",
      "source": [
        "#กราฟแท่งของคอลัมน์ day_acc\n",
        "val_count_BarPlot(data=df_EDA, count_cols='day_acc')\n",
        "\n",
        "# day_acc เทียบกับ level_acc\n",
        "for val in list(df['day_acc'].unique()):\n",
        "  print(f\"{val} level_acc\")\n",
        "  print(df.loc[df['day_acc']==val]['level_acc'].value_counts(),\"\\n\")"
      ],
      "metadata": {
        "colab": {
          "base_uri": "https://localhost:8080/",
          "height": 1000
        },
        "id": "OgrNi3e2kMww",
        "outputId": "15779540-8a6d-4482-cdcb-66dfe53deb37"
      },
      "execution_count": null,
      "outputs": [
        {
          "output_type": "stream",
          "name": "stdout",
          "text": [
            "1 level_acc\n",
            "ACC    146\n",
            "INJ     53\n",
            "DIE      6\n",
            "Name: level_acc, dtype: int64 \n",
            "\n",
            "2 level_acc\n",
            "ACC    133\n",
            "INJ     57\n",
            "DIE      4\n",
            "Name: level_acc, dtype: int64 \n",
            "\n",
            "3 level_acc\n",
            "ACC    114\n",
            "INJ     54\n",
            "DIE      3\n",
            "Name: level_acc, dtype: int64 \n",
            "\n",
            "4 level_acc\n",
            "ACC    128\n",
            "INJ     55\n",
            "DIE      2\n",
            "Name: level_acc, dtype: int64 \n",
            "\n",
            "5 level_acc\n",
            "ACC    121\n",
            "INJ     53\n",
            "DIE      3\n",
            "Name: level_acc, dtype: int64 \n",
            "\n",
            "6 level_acc\n",
            "ACC    115\n",
            "INJ     58\n",
            "DIE      7\n",
            "Name: level_acc, dtype: int64 \n",
            "\n",
            "7 level_acc\n",
            "ACC    123\n",
            "INJ     65\n",
            "DIE      3\n",
            "Name: level_acc, dtype: int64 \n",
            "\n",
            "8 level_acc\n",
            "ACC    127\n",
            "INJ     46\n",
            "DIE      3\n",
            "Name: level_acc, dtype: int64 \n",
            "\n",
            "9 level_acc\n",
            "ACC    149\n",
            "INJ     59\n",
            "DIE      5\n",
            "Name: level_acc, dtype: int64 \n",
            "\n",
            "10 level_acc\n",
            "ACC    139\n",
            "INJ     55\n",
            "DIE      2\n",
            "Name: level_acc, dtype: int64 \n",
            "\n",
            "11 level_acc\n",
            "ACC    122\n",
            "INJ     58\n",
            "DIE      5\n",
            "Name: level_acc, dtype: int64 \n",
            "\n",
            "12 level_acc\n",
            "ACC    122\n",
            "INJ     56\n",
            "DIE      3\n",
            "Name: level_acc, dtype: int64 \n",
            "\n",
            "13 level_acc\n",
            "ACC    120\n",
            "INJ     52\n",
            "DIE      3\n",
            "Name: level_acc, dtype: int64 \n",
            "\n",
            "14 level_acc\n",
            "ACC    132\n",
            "INJ     66\n",
            "DIE      4\n",
            "Name: level_acc, dtype: int64 \n",
            "\n",
            "15 level_acc\n",
            "ACC    118\n",
            "INJ     62\n",
            "DIE      4\n",
            "Name: level_acc, dtype: int64 \n",
            "\n",
            "16 level_acc\n",
            "ACC    123\n",
            "INJ     62\n",
            "DIE      4\n",
            "Name: level_acc, dtype: int64 \n",
            "\n",
            "17 level_acc\n",
            "ACC    118\n",
            "INJ     58\n",
            "DIE      1\n",
            "Name: level_acc, dtype: int64 \n",
            "\n",
            "18 level_acc\n",
            "ACC    127\n",
            "INJ     58\n",
            "DIE      3\n",
            "Name: level_acc, dtype: int64 \n",
            "\n",
            "19 level_acc\n",
            "ACC    133\n",
            "INJ     51\n",
            "DIE      2\n",
            "Name: level_acc, dtype: int64 \n",
            "\n",
            "20 level_acc\n",
            "ACC    121\n",
            "INJ     54\n",
            "DIE      4\n",
            "Name: level_acc, dtype: int64 \n",
            "\n",
            "21 level_acc\n",
            "ACC    137\n",
            "INJ     62\n",
            "DIE      5\n",
            "Name: level_acc, dtype: int64 \n",
            "\n",
            "22 level_acc\n",
            "ACC    123\n",
            "INJ     55\n",
            "DIE      4\n",
            "Name: level_acc, dtype: int64 \n",
            "\n",
            "23 level_acc\n",
            "ACC    127\n",
            "INJ     45\n",
            "DIE      5\n",
            "Name: level_acc, dtype: int64 \n",
            "\n",
            "24 level_acc\n",
            "ACC    126\n",
            "INJ     57\n",
            "DIE      2\n",
            "Name: level_acc, dtype: int64 \n",
            "\n",
            "25 level_acc\n",
            "ACC    138\n",
            "INJ     58\n",
            "DIE      4\n",
            "Name: level_acc, dtype: int64 \n",
            "\n",
            "26 level_acc\n",
            "ACC    134\n",
            "INJ     56\n",
            "DIE      2\n",
            "Name: level_acc, dtype: int64 \n",
            "\n",
            "27 level_acc\n",
            "ACC    137\n",
            "INJ     57\n",
            "Name: level_acc, dtype: int64 \n",
            "\n",
            "28 level_acc\n",
            "ACC    137\n",
            "INJ     76\n",
            "DIE      2\n",
            "Name: level_acc, dtype: int64 \n",
            "\n",
            "29 level_acc\n",
            "ACC    134\n",
            "INJ     55\n",
            "DIE      5\n",
            "Name: level_acc, dtype: int64 \n",
            "\n",
            "30 level_acc\n",
            "ACC    97\n",
            "INJ    58\n",
            "DIE     2\n",
            "Name: level_acc, dtype: int64 \n",
            "\n",
            "31 level_acc\n",
            "ACC    63\n",
            "INJ    33\n",
            "DIE     2\n",
            "Name: level_acc, dtype: int64 \n",
            "\n"
          ]
        },
        {
          "output_type": "display_data",
          "data": {
            "text/plain": [
              "<Figure size 576x432 with 1 Axes>"
            ],
            "image/png": "[encoded data removed]"
          },
          "metadata": {
            "needs_background": "light"
          }
        }
      ]
    },
    {
      "cell_type": "code",
      "source": [
        "#กราฟแท่งของคอลัมน์ month_acc\n",
        "val_count_BarPlot(data=df_EDA, count_cols='month_acc')\n",
        "\n",
        "# month_acc เทียบกับ level_acc\n",
        "for val in list(df['month_acc'].unique()):\n",
        "  print(f\"{val} level_acc\")\n",
        "  print(df.loc[df['month_acc']==val]['level_acc'].value_counts(),\"\\n\")"
      ],
      "metadata": {
        "colab": {
          "base_uri": "https://localhost:8080/",
          "height": 1000
        },
        "id": "pCxCDRvHkonp",
        "outputId": "4b2792d6-0c82-4b22-b5f8-fee1c853a71f"
      },
      "execution_count": null,
      "outputs": [
        {
          "output_type": "stream",
          "name": "stdout",
          "text": [
            "1 level_acc\n",
            "ACC    326\n",
            "INJ    161\n",
            "DIE     12\n",
            "Name: level_acc, dtype: int64 \n",
            "\n",
            "2 level_acc\n",
            "ACC    333\n",
            "INJ    149\n",
            "DIE      4\n",
            "Name: level_acc, dtype: int64 \n",
            "\n",
            "3 level_acc\n",
            "ACC    377\n",
            "INJ    151\n",
            "DIE      7\n",
            "Name: level_acc, dtype: int64 \n",
            "\n",
            "4 level_acc\n",
            "ACC    332\n",
            "INJ    172\n",
            "DIE     13\n",
            "Name: level_acc, dtype: int64 \n",
            "\n",
            "5 level_acc\n",
            "ACC    331\n",
            "INJ    131\n",
            "DIE     11\n",
            "Name: level_acc, dtype: int64 \n",
            "\n",
            "6 level_acc\n",
            "ACC    315\n",
            "INJ    110\n",
            "DIE      5\n",
            "Name: level_acc, dtype: int64 \n",
            "\n",
            "7 level_acc\n",
            "ACC    357\n",
            "INJ    164\n",
            "DIE      9\n",
            "Name: level_acc, dtype: int64 \n",
            "\n",
            "8 level_acc\n",
            "ACC    336\n",
            "INJ    154\n",
            "DIE      8\n",
            "Name: level_acc, dtype: int64 \n",
            "\n",
            "9 level_acc\n",
            "ACC    379\n",
            "INJ    154\n",
            "DIE      8\n",
            "Name: level_acc, dtype: int64 \n",
            "\n",
            "10 level_acc\n",
            "ACC    290\n",
            "INJ    136\n",
            "DIE     10\n",
            "Name: level_acc, dtype: int64 \n",
            "\n",
            "11 level_acc\n",
            "ACC    246\n",
            "INJ    101\n",
            "DIE      8\n",
            "Name: level_acc, dtype: int64 \n",
            "\n",
            "12 level_acc\n",
            "ACC    262\n",
            "INJ    161\n",
            "DIE      9\n",
            "Name: level_acc, dtype: int64 \n",
            "\n"
          ]
        },
        {
          "output_type": "display_data",
          "data": {
            "text/plain": [
              "<Figure size 576x432 with 1 Axes>"
            ],
            "image/png": "[encoded data removed]"
          },
          "metadata": {
            "needs_background": "light"
          }
        }
      ]
    },
    {
      "cell_type": "code",
      "source": [
        "#กราฟแท่งของคอลัมน์ years_acc\n",
        "val_count_BarPlot(data=df_EDA, count_cols='years_acc')\n",
        "\n",
        "# years_acc เทียบกับ level_acc\n",
        "for val in list(df['years_acc'].unique()):\n",
        "  print(f\"{val} level_acc\")\n",
        "  print(df.loc[df['years_acc']==val]['level_acc'].value_counts(),\"\\n\")"
      ],
      "metadata": {
        "colab": {
          "base_uri": "https://localhost:8080/",
          "height": 806
        },
        "id": "ObxJh8tKIb-F",
        "outputId": "bb2fe815-7a04-4dd3-b437-e8c657b59995"
      },
      "execution_count": null,
      "outputs": [
        {
          "output_type": "stream",
          "name": "stdout",
          "text": [
            "2019 level_acc\n",
            "ACC    994\n",
            "INJ    408\n",
            "DIE     20\n",
            "Name: level_acc, dtype: int64 \n",
            "\n",
            "2020 level_acc\n",
            "ACC    1036\n",
            "INJ     523\n",
            "DIE      26\n",
            "Name: level_acc, dtype: int64 \n",
            "\n",
            "2021 level_acc\n",
            "ACC    985\n",
            "INJ    422\n",
            "DIE     35\n",
            "Name: level_acc, dtype: int64 \n",
            "\n",
            "2022 level_acc\n",
            "ACC    869\n",
            "INJ    391\n",
            "DIE     23\n",
            "Name: level_acc, dtype: int64 \n",
            "\n"
          ]
        },
        {
          "output_type": "display_data",
          "data": {
            "text/plain": [
              "<Figure size 576x432 with 1 Axes>"
            ],
            "image/png": "[encoded data removed]"
          },
          "metadata": {
            "needs_background": "light"
          }
        }
      ]
    },
    {
      "cell_type": "code",
      "source": [
        "#กราฟแท่งของคอลัมน์ type_acc\n",
        "type_acc = df_EDA['type_acc'].value_counts().head(10).index\n",
        "plt.figure(figsize=(15, 8))\n",
        "sns.countplot(data=df_EDA, y='type_acc', order=type_acc)\n",
        "plt.xlabel('จำนวนรถ (คัน)')\n",
        "plt.ylabel('ประเภทรถ');"
      ],
      "metadata": {
        "colab": {
          "base_uri": "https://localhost:8080/",
          "height": 496
        },
        "id": "l-RXzWmoKvLd",
        "outputId": "1e60df28-268f-4b39-a1f7-10a94f24dd1f"
      },
      "execution_count": null,
      "outputs": [
        {
          "output_type": "display_data",
          "data": {
            "text/plain": [
              "<Figure size 1080x576 with 1 Axes>"
            ],
            "image/png": "[encoded data removed]"
          },
          "metadata": {
            "needs_background": "light"
          }
        }
      ]
    },
    {
      "cell_type": "code",
      "source": [
        "# type_acc เทียบกับ level_acc\n",
        "for val in list(df['type_acc'].unique()):\n",
        "  print(f\"{val} level_acc\")\n",
        "  print(df.loc[df['type_acc']==val]['level_acc'].value_counts(),\"\\n\")"
      ],
      "metadata": {
        "colab": {
          "base_uri": "https://localhost:8080/"
        },
        "id": "0k1pDWOAL-ze",
        "outputId": "74b5d70f-c594-4f4d-86e4-58726a8506a7"
      },
      "execution_count": null,
      "outputs": [
        {
          "output_type": "stream",
          "name": "stdout",
          "text": [
            "อื่นๆ level_acc\n",
            "ACC    705\n",
            "INJ    185\n",
            "DIE     10\n",
            "Name: level_acc, dtype: int64 \n",
            "\n",
            "รถยนต์นั่งส่วนบุคคล/รถยนต์นั่งสาธารณะ level_acc\n",
            "ACC    1478\n",
            "INJ     620\n",
            "DIE      19\n",
            "Name: level_acc, dtype: int64 \n",
            "\n",
            "รถปิคอัพบรรทุก 4 ล้อ level_acc\n",
            "ACC    1043\n",
            "INJ     424\n",
            "DIE      12\n",
            "Name: level_acc, dtype: int64 \n",
            "\n",
            "รถตู้ level_acc\n",
            "ACC    47\n",
            "INJ    32\n",
            "DIE     3\n",
            "Name: level_acc, dtype: int64 \n",
            "\n",
            "รถบรรทุก 6 ล้อ level_acc\n",
            "ACC    128\n",
            "INJ     48\n",
            "DIE     10\n",
            "Name: level_acc, dtype: int64 \n",
            "\n",
            "รถบรรทุกมากกว่า 10 ล้อ (รถพ่วง) level_acc\n",
            "ACC    237\n",
            "INJ    101\n",
            "DIE      4\n",
            "Name: level_acc, dtype: int64 \n",
            "\n",
            "รถโดยสารขนาดใหญ่ level_acc\n",
            "ACC    24\n",
            "INJ     6\n",
            "DIE     1\n",
            "Name: level_acc, dtype: int64 \n",
            "\n",
            "รถบรรทุกมากกว่า 6 ล้อ ไม่เกิน 10 ล้อ level_acc\n",
            "ACC    87\n",
            "INJ    42\n",
            "DIE     4\n",
            "Name: level_acc, dtype: int64 \n",
            "\n",
            "รถจักรยานยนต์ level_acc\n",
            "INJ    275\n",
            "ACC    127\n",
            "DIE     38\n",
            "Name: level_acc, dtype: int64 \n",
            "\n",
            "รถปิคอัพโดยสาร level_acc\n",
            "INJ    7\n",
            "ACC    6\n",
            "Name: level_acc, dtype: int64 \n",
            "\n",
            "รถสามล้อเครื่อง level_acc\n",
            "INJ    3\n",
            "ACC    2\n",
            "Name: level_acc, dtype: int64 \n",
            "\n",
            "รถจักรยาน level_acc\n",
            "INJ    1\n",
            "Name: level_acc, dtype: int64 \n",
            "\n",
            "คนเดินเท้า level_acc\n",
            "DIE    3\n",
            "Name: level_acc, dtype: int64 \n",
            "\n"
          ]
        }
      ]
    },
    {
      "cell_type": "code",
      "source": [
        "#กราฟแท่งของคอลัมน์ scene_acc\n",
        "scene_acc = df_EDA['scene_acc'].value_counts().head(10).index\n",
        "plt.figure(figsize=(15, 8))\n",
        "sns.countplot(data=df_EDA, y='scene_acc', order=scene_acc)\n",
        "plt.xlabel('จำนวนลักษณะทาง (จำนวน)')\n",
        "plt.ylabel('ลักษณะทาง');"
      ],
      "metadata": {
        "colab": {
          "base_uri": "https://localhost:8080/",
          "height": 496
        },
        "id": "3K0M1UKeMO8u",
        "outputId": "c4ef497a-1f7c-4cab-f368-38685f765c68"
      },
      "execution_count": null,
      "outputs": [
        {
          "output_type": "display_data",
          "data": {
            "text/plain": [
              "<Figure size 1080x576 with 1 Axes>"
            ],
            "image/png": "[encoded data removed]"
          },
          "metadata": {
            "needs_background": "light"
          }
        }
      ]
    },
    {
      "cell_type": "code",
      "source": [
        "# scene_acc เทียบกับ level_acc\n",
        "for val in list(df['scene_acc'].unique()):\n",
        "  print(f\"{val} level_acc\")\n",
        "  print(df.loc[df['scene_acc']==val]['level_acc'].value_counts(),\"\\n\")"
      ],
      "metadata": {
        "colab": {
          "base_uri": "https://localhost:8080/"
        },
        "id": "nTtHq0vCmIU2",
        "outputId": "b54a9dd7-5e84-493c-ea04-6b54a86c3df8"
      },
      "execution_count": null,
      "outputs": [
        {
          "output_type": "stream",
          "name": "stdout",
          "text": [
            "อื่นๆ level_acc\n",
            "ACC    334\n",
            "INJ    131\n",
            "DIE     17\n",
            "Name: level_acc, dtype: int64 \n",
            "\n",
            "ทางตรง level_acc\n",
            "ACC    3235\n",
            "INJ    1479\n",
            "DIE      75\n",
            "Name: level_acc, dtype: int64 \n",
            "\n",
            "ทางโค้งกว้าง level_acc\n",
            "ACC    191\n",
            "INJ     85\n",
            "DIE      7\n",
            "Name: level_acc, dtype: int64 \n",
            "\n",
            "ทางแยกต่างระดับ/Ramps level_acc\n",
            "ACC    63\n",
            "INJ    30\n",
            "DIE     3\n",
            "Name: level_acc, dtype: int64 \n",
            "\n",
            "ทางเชื่อมเข้าพื้นที่สาธารณะ/เชิงพาณิชย์ level_acc\n",
            "ACC    10\n",
            "INJ     6\n",
            "DIE     1\n",
            "Name: level_acc, dtype: int64 \n",
            "\n",
            "ทางโค้งหักศอก level_acc\n",
            "ACC    7\n",
            "INJ    1\n",
            "DIE    1\n",
            "Name: level_acc, dtype: int64 \n",
            "\n",
            "ทางสามแยก (Y) level_acc\n",
            "ACC    31\n",
            "INJ     6\n",
            "Name: level_acc, dtype: int64 \n",
            "\n",
            "ทางร่วม level_acc\n",
            "ACC    9\n",
            "INJ    4\n",
            "Name: level_acc, dtype: int64 \n",
            "\n",
            "ทางสามแยก (T) level_acc\n",
            "ACC    2\n",
            "Name: level_acc, dtype: int64 \n",
            "\n",
            "จุดกลับรถต่างระดับ level_acc\n",
            "ACC    2\n",
            "Name: level_acc, dtype: int64 \n",
            "\n",
            "ทางเชื่อมเข้าพื้นที่ส่วนบุคคล level_acc\n",
            "INJ    1\n",
            "Name: level_acc, dtype: int64 \n",
            "\n",
            "ทางสี่แยก level_acc\n",
            "INJ    1\n",
            "Name: level_acc, dtype: int64 \n",
            "\n"
          ]
        }
      ]
    },
    {
      "cell_type": "code",
      "source": [
        "#กราฟแท่งของคอลัมน์ road_surface\n",
        "val_count_BarPlot(data=df_EDA, count_cols='road_surface')"
      ],
      "metadata": {
        "colab": {
          "base_uri": "https://localhost:8080/",
          "height": 393
        },
        "id": "PI_T4t2GM8WV",
        "outputId": "2229729a-1e78-4d12-c4f0-1f64c2b48829"
      },
      "execution_count": null,
      "outputs": [
        {
          "output_type": "display_data",
          "data": {
            "text/plain": [
              "<Figure size 576x432 with 1 Axes>"
            ],
            "image/png": "[encoded data removed]"
          },
          "metadata": {
            "needs_background": "light"
          }
        }
      ]
    },
    {
      "cell_type": "code",
      "source": [
        "# road_surface เทียบกับ level_acc\n",
        "for val in list(df['road_surface'].unique()):\n",
        "  print(f\"{val} level_acc\")\n",
        "  print(df.loc[df['road_surface']==val]['level_acc'].value_counts(),\"\\n\")"
      ],
      "metadata": {
        "colab": {
          "base_uri": "https://localhost:8080/"
        },
        "id": "uGvuOfEcNh9S",
        "outputId": "acc23aad-d29d-441e-b039-5f6a77abdf91"
      },
      "execution_count": null,
      "outputs": [
        {
          "output_type": "stream",
          "name": "stdout",
          "text": [
            "ไม่มีความลาดชัน level_acc\n",
            "ACC    3855\n",
            "INJ    1709\n",
            "DIE      96\n",
            "Name: level_acc, dtype: int64 \n",
            "\n",
            "ที่ลาดชัน level_acc\n",
            "INJ    35\n",
            "ACC    29\n",
            "DIE     8\n",
            "Name: level_acc, dtype: int64 \n",
            "\n"
          ]
        }
      ]
    },
    {
      "cell_type": "code",
      "source": [
        "#กราฟแท่งของคอลัมน์ time_acc\n",
        "val_count_BarPlot(data=df_EDA, count_cols='time_acc')"
      ],
      "metadata": {
        "colab": {
          "base_uri": "https://localhost:8080/",
          "height": 389
        },
        "id": "v1yAofpONnBB",
        "outputId": "60946172-4fff-4cf1-c28c-5d3dabfd2fee"
      },
      "execution_count": null,
      "outputs": [
        {
          "output_type": "display_data",
          "data": {
            "text/plain": [
              "<Figure size 576x432 with 1 Axes>"
            ],
            "image/png": "[encoded data removed]"
          },
          "metadata": {
            "needs_background": "light"
          }
        }
      ]
    },
    {
      "cell_type": "code",
      "source": [
        "# time_acc เทียบกับ level_acc\n",
        "for val in list(df['time_acc'].unique()):\n",
        "  print(f\"{val} level_acc\")\n",
        "  print(df.loc[df['time_acc']==val]['level_acc'].value_counts(),\"\\n\")"
      ],
      "metadata": {
        "colab": {
          "base_uri": "https://localhost:8080/"
        },
        "id": "DP7S2NuXNt6S",
        "outputId": "62cd09ed-ac23-4412-f7cd-3f3e96a4eac0"
      },
      "execution_count": null,
      "outputs": [
        {
          "output_type": "stream",
          "name": "stdout",
          "text": [
            "0 level_acc\n",
            "ACC    341\n",
            "INJ    251\n",
            "DIE     24\n",
            "Name: level_acc, dtype: int64 \n",
            "\n",
            "1 level_acc\n",
            "ACC    516\n",
            "INJ    244\n",
            "DIE     22\n",
            "Name: level_acc, dtype: int64 \n",
            "\n",
            "2 level_acc\n",
            "ACC    892\n",
            "INJ    318\n",
            "DIE      9\n",
            "Name: level_acc, dtype: int64 \n",
            "\n",
            "4 level_acc\n",
            "ACC    799\n",
            "INJ    319\n",
            "DIE      9\n",
            "Name: level_acc, dtype: int64 \n",
            "\n",
            "5 level_acc\n",
            "ACC    566\n",
            "INJ    351\n",
            "DIE     30\n",
            "Name: level_acc, dtype: int64 \n",
            "\n",
            "3 level_acc\n",
            "ACC    770\n",
            "INJ    261\n",
            "DIE     10\n",
            "Name: level_acc, dtype: int64 \n",
            "\n"
          ]
        }
      ]
    },
    {
      "cell_type": "code",
      "source": [],
      "metadata": {
        "id": "kk2yAQwS3Lum"
      },
      "execution_count": null,
      "outputs": []
    },
    {
      "cell_type": "code",
      "source": [
        "#กราฟแท่งของคอลัมน์ _acc\n",
        "cnd_acc = df_EDA['cnd_acc'].value_counts().head(10).index\n",
        "plt.figure(figsize=(15, 8))\n",
        "sns.countplot(data=df_EDA, y='cnd_acc', order=cnd_acc)\n",
        "plt.xlabel('สภาพอากาศ (จำนวน)')\n",
        "plt.ylabel('สภาพอากาศ');"
      ],
      "metadata": {
        "colab": {
          "base_uri": "https://localhost:8080/",
          "height": 496
        },
        "id": "MEdR7fQMsNFX",
        "outputId": "f409793e-fb66-4184-9657-98731a82d9b6"
      },
      "execution_count": null,
      "outputs": [
        {
          "output_type": "display_data",
          "data": {
            "text/plain": [
              "<Figure size 1080x576 with 1 Axes>"
            ],
            "image/png": "[encoded data removed]"
          },
          "metadata": {
            "needs_background": "light"
          }
        }
      ]
    },
    {
      "cell_type": "code",
      "source": [
        "# cnd_acc เทียบกับ level_acc\n",
        "for val in list(df['cnd_acc'].unique()):\n",
        "  print(f\"{val} level_acc\")\n",
        "  print(df.loc[df['cnd_acc']==val]['level_acc'].value_counts(),\"\\n\")"
      ],
      "metadata": {
        "colab": {
          "base_uri": "https://localhost:8080/"
        },
        "id": "iFJB12PTr4p0",
        "outputId": "728245d0-0848-41da-fa01-86324d0ed811"
      },
      "execution_count": null,
      "outputs": [
        {
          "output_type": "stream",
          "name": "stdout",
          "text": [
            "Fair level_acc\n",
            "ACC    2463\n",
            "INJ    1156\n",
            "DIE      68\n",
            "Name: level_acc, dtype: int64 \n",
            "\n",
            "Mostly Cloudy level_acc\n",
            "ACC    181\n",
            "INJ     78\n",
            "DIE      6\n",
            "Name: level_acc, dtype: int64 \n",
            "\n",
            "Partly Cloudy level_acc\n",
            "ACC    779\n",
            "INJ    313\n",
            "DIE     22\n",
            "Name: level_acc, dtype: int64 \n",
            "\n",
            "Light Rain level_acc\n",
            "ACC    310\n",
            "INJ    124\n",
            "DIE      7\n",
            "Name: level_acc, dtype: int64 \n",
            "\n",
            "Fog level_acc\n",
            "ACC    21\n",
            "INJ    15\n",
            "Name: level_acc, dtype: int64 \n",
            "\n",
            "Haze level_acc\n",
            "ACC    4\n",
            "INJ    1\n",
            "Name: level_acc, dtype: int64 \n",
            "\n",
            "Cloudy level_acc\n",
            "ACC    3\n",
            "Name: level_acc, dtype: int64 \n",
            "\n",
            "Showers in the Vicinity level_acc\n",
            "ACC    19\n",
            "INJ    14\n",
            "Name: level_acc, dtype: int64 \n",
            "\n",
            "Light Rain with Thunder level_acc\n",
            "ACC    37\n",
            "INJ    16\n",
            "DIE     1\n",
            "Name: level_acc, dtype: int64 \n",
            "\n",
            "T-Storm / Windy level_acc\n",
            "ACC    3\n",
            "Name: level_acc, dtype: int64 \n",
            "\n",
            "T-Storm level_acc\n",
            "ACC    14\n",
            "INJ     6\n",
            "Name: level_acc, dtype: int64 \n",
            "\n",
            "Light Rain Shower level_acc\n",
            "ACC    3\n",
            "INJ    2\n",
            "Name: level_acc, dtype: int64 \n",
            "\n",
            "Thunder level_acc\n",
            "ACC    8\n",
            "INJ    5\n",
            "Name: level_acc, dtype: int64 \n",
            "\n",
            "Heavy Rain level_acc\n",
            "ACC    2\n",
            "Name: level_acc, dtype: int64 \n",
            "\n",
            "Rain level_acc\n",
            "ACC    14\n",
            "INJ     7\n",
            "Name: level_acc, dtype: int64 \n",
            "\n",
            "Heavy T-Storm level_acc\n",
            "ACC    8\n",
            "INJ    3\n",
            "Name: level_acc, dtype: int64 \n",
            "\n",
            "Fair / Windy level_acc\n",
            "ACC    2\n",
            "INJ    1\n",
            "Name: level_acc, dtype: int64 \n",
            "\n",
            "Light Rain Shower / Windy level_acc\n",
            "ACC    1\n",
            "Name: level_acc, dtype: int64 \n",
            "\n",
            "Partly Cloudy / Windy level_acc\n",
            "ACC    3\n",
            "INJ    1\n",
            "Name: level_acc, dtype: int64 \n",
            "\n",
            "Smoke level_acc\n",
            "INJ    1\n",
            "Name: level_acc, dtype: int64 \n",
            "\n",
            "Rain / Windy level_acc\n",
            "ACC    1\n",
            "Name: level_acc, dtype: int64 \n",
            "\n",
            "Light Rain / Windy level_acc\n",
            "ACC    4\n",
            "Name: level_acc, dtype: int64 \n",
            "\n",
            "Mostly Cloudy / Windy level_acc\n",
            "ACC    1\n",
            "Name: level_acc, dtype: int64 \n",
            "\n",
            "Thunder in the Vicinity level_acc\n",
            "ACC    3\n",
            "INJ    1\n",
            "Name: level_acc, dtype: int64 \n",
            "\n"
          ]
        }
      ]
    },
    {
      "cell_type": "markdown",
      "source": [
        "---------------------------------------------"
      ],
      "metadata": {
        "id": "pL2UfCPFN7iK"
      }
    },
    {
      "cell_type": "markdown",
      "source": [
        "##Heatmap"
      ],
      "metadata": {
        "id": "j7AwrUX0Rbye"
      }
    },
    {
      "cell_type": "code",
      "source": [
        "# copy df ลงใน Htm\n",
        "df_Htm = df.copy()\n",
        "df_Htm"
      ],
      "metadata": {
        "id": "nyzL8koNRhmC",
        "colab": {
          "base_uri": "https://localhost:8080/",
          "height": 424
        },
        "outputId": "014838c5-5104-46bf-a11c-67272d5befaf"
      },
      "execution_count": null,
      "outputs": [
        {
          "output_type": "execute_result",
          "data": {
            "text/plain": [
              "                         route_acc                               type_acc  \\\n",
              "0                บางพลี-สุขสวัสดิ์                                  อื่นๆ   \n",
              "1                     บางนา-ชลบุรี                                  อื่นๆ   \n",
              "2                ดาวคะนอง -  แสมดำ  รถยนต์นั่งส่วนบุคคล/รถยนต์นั่งสาธารณะ   \n",
              "3     อรุณอมรินทร์ - พุทธมณฑลสาย 4  รถยนต์นั่งส่วนบุคคล/รถยนต์นั่งสาธารณะ   \n",
              "4     อรุณอมรินทร์ - พุทธมณฑลสาย 4                   รถปิคอัพบรรทุก 4 ล้อ   \n",
              "...                            ...                                    ...   \n",
              "5727            รามอินทรา-อาจณรงค์                                  อื่นๆ   \n",
              "5728               แจ้งวัฒนะ-พญาไท                                  อื่นๆ   \n",
              "5729    แขวงคลองสองต้นนุ่น - พิมพา                   รถปิคอัพบรรทุก 4 ล้อ   \n",
              "5730            รามอินทรา-อาจณรงค์                                  อื่นๆ   \n",
              "5731                 พญาไท-บางโคล่                                  อื่นๆ   \n",
              "\n",
              "     cnd_acc day_acc month_acc years_acc  hours_acc  minutes_acc  \\\n",
              "0       Fair       1         1      2019          3            5   \n",
              "1       Fair       1         1      2019          5           42   \n",
              "2       Fair       1         1      2019         10           10   \n",
              "3       Fair       1         1      2019         17           30   \n",
              "4       Fair       1         1      2019         19           20   \n",
              "...      ...     ...       ...       ...        ...          ...   \n",
              "5727    Fair      29         9      2022         23           40   \n",
              "5728    Fair      30         9      2022          9           21   \n",
              "5729    Fair      30         9      2022         18            4   \n",
              "5730    Fair      30         9      2022         18           48   \n",
              "5731    Fair      30         9      2022         21           33   \n",
              "\n",
              "                  scene_acc     road_surface time_acc level_acc  \n",
              "0                     อื่นๆ  ไม่มีความลาดชัน        0       INJ  \n",
              "1                    ทางตรง  ไม่มีความลาดชัน        1       ACC  \n",
              "2                    ทางตรง  ไม่มีความลาดชัน        2       ACC  \n",
              "3                    ทางตรง  ไม่มีความลาดชัน        4       ACC  \n",
              "4                    ทางตรง  ไม่มีความลาดชัน        4       INJ  \n",
              "...                     ...              ...      ...       ...  \n",
              "5727                 ทางตรง  ไม่มีความลาดชัน        5       ACC  \n",
              "5728           ทางโค้งกว้าง  ไม่มีความลาดชัน        2       ACC  \n",
              "5729                 ทางตรง  ไม่มีความลาดชัน        4       ACC  \n",
              "5730                 ทางตรง  ไม่มีความลาดชัน        4       ACC  \n",
              "5731  ทางแยกต่างระดับ/Ramps  ไม่มีความลาดชัน        5       ACC  \n",
              "\n",
              "[5732 rows x 12 columns]"
            ],
            "text/html": [
              "\n",
              "  <div id=\"df-4a5595f3-22e3-4150-9268-1c88725c107c\">\n",
              "    <div class=\"colab-df-container\">\n",
              "      <div>\n",
              "<style scoped>\n",
              "    .dataframe tbody tr th:only-of-type {\n",
              "        vertical-align: middle;\n",
              "    }\n",
              "\n",
              "    .dataframe tbody tr th {\n",
              "        vertical-align: top;\n",
              "    }\n",
              "\n",
              "    .dataframe thead th {\n",
              "        text-align: right;\n",
              "    }\n",
              "</style>\n",
              "<table border=\"1\" class=\"dataframe\">\n",
              "  <thead>\n",
              "    <tr style=\"text-align: right;\">\n",
              "      <th></th>\n",
              "      <th>route_acc</th>\n",
              "      <th>type_acc</th>\n",
              "      <th>cnd_acc</th>\n",
              "      <th>day_acc</th>\n",
              "      <th>month_acc</th>\n",
              "      <th>years_acc</th>\n",
              "      <th>hours_acc</th>\n",
              "      <th>minutes_acc</th>\n",
              "      <th>scene_acc</th>\n",
              "      <th>road_surface</th>\n",
              "      <th>time_acc</th>\n",
              "      <th>level_acc</th>\n",
              "    </tr>\n",
              "  </thead>\n",
              "  <tbody>\n",
              "    <tr>\n",
              "      <th>0</th>\n",
              "      <td>บางพลี-สุขสวัสดิ์</td>\n",
              "      <td>อื่นๆ</td>\n",
              "      <td>Fair</td>\n",
              "      <td>1</td>\n",
              "      <td>1</td>\n",
              "      <td>2019</td>\n",
              "      <td>3</td>\n",
              "      <td>5</td>\n",
              "      <td>อื่นๆ</td>\n",
              "      <td>ไม่มีความลาดชัน</td>\n",
              "      <td>0</td>\n",
              "      <td>INJ</td>\n",
              "    </tr>\n",
              "    <tr>\n",
              "      <th>1</th>\n",
              "      <td>บางนา-ชลบุรี</td>\n",
              "      <td>อื่นๆ</td>\n",
              "      <td>Fair</td>\n",
              "      <td>1</td>\n",
              "      <td>1</td>\n",
              "      <td>2019</td>\n",
              "      <td>5</td>\n",
              "      <td>42</td>\n",
              "      <td>ทางตรง</td>\n",
              "      <td>ไม่มีความลาดชัน</td>\n",
              "      <td>1</td>\n",
              "      <td>ACC</td>\n",
              "    </tr>\n",
              "    <tr>\n",
              "      <th>2</th>\n",
              "      <td>ดาวคะนอง -  แสมดำ</td>\n",
              "      <td>รถยนต์นั่งส่วนบุคคล/รถยนต์นั่งสาธารณะ</td>\n",
              "      <td>Fair</td>\n",
              "      <td>1</td>\n",
              "      <td>1</td>\n",
              "      <td>2019</td>\n",
              "      <td>10</td>\n",
              "      <td>10</td>\n",
              "      <td>ทางตรง</td>\n",
              "      <td>ไม่มีความลาดชัน</td>\n",
              "      <td>2</td>\n",
              "      <td>ACC</td>\n",
              "    </tr>\n",
              "    <tr>\n",
              "      <th>3</th>\n",
              "      <td>อรุณอมรินทร์ - พุทธมณฑลสาย 4</td>\n",
              "      <td>รถยนต์นั่งส่วนบุคคล/รถยนต์นั่งสาธารณะ</td>\n",
              "      <td>Fair</td>\n",
              "      <td>1</td>\n",
              "      <td>1</td>\n",
              "      <td>2019</td>\n",
              "      <td>17</td>\n",
              "      <td>30</td>\n",
              "      <td>ทางตรง</td>\n",
              "      <td>ไม่มีความลาดชัน</td>\n",
              "      <td>4</td>\n",
              "      <td>ACC</td>\n",
              "    </tr>\n",
              "    <tr>\n",
              "      <th>4</th>\n",
              "      <td>อรุณอมรินทร์ - พุทธมณฑลสาย 4</td>\n",
              "      <td>รถปิคอัพบรรทุก 4 ล้อ</td>\n",
              "      <td>Fair</td>\n",
              "      <td>1</td>\n",
              "      <td>1</td>\n",
              "      <td>2019</td>\n",
              "      <td>19</td>\n",
              "      <td>20</td>\n",
              "      <td>ทางตรง</td>\n",
              "      <td>ไม่มีความลาดชัน</td>\n",
              "      <td>4</td>\n",
              "      <td>INJ</td>\n",
              "    </tr>\n",
              "    <tr>\n",
              "      <th>...</th>\n",
              "      <td>...</td>\n",
              "      <td>...</td>\n",
              "      <td>...</td>\n",
              "      <td>...</td>\n",
              "      <td>...</td>\n",
              "      <td>...</td>\n",
              "      <td>...</td>\n",
              "      <td>...</td>\n",
              "      <td>...</td>\n",
              "      <td>...</td>\n",
              "      <td>...</td>\n",
              "      <td>...</td>\n",
              "    </tr>\n",
              "    <tr>\n",
              "      <th>5727</th>\n",
              "      <td>รามอินทรา-อาจณรงค์</td>\n",
              "      <td>อื่นๆ</td>\n",
              "      <td>Fair</td>\n",
              "      <td>29</td>\n",
              "      <td>9</td>\n",
              "      <td>2022</td>\n",
              "      <td>23</td>\n",
              "      <td>40</td>\n",
              "      <td>ทางตรง</td>\n",
              "      <td>ไม่มีความลาดชัน</td>\n",
              "      <td>5</td>\n",
              "      <td>ACC</td>\n",
              "    </tr>\n",
              "    <tr>\n",
              "      <th>5728</th>\n",
              "      <td>แจ้งวัฒนะ-พญาไท</td>\n",
              "      <td>อื่นๆ</td>\n",
              "      <td>Fair</td>\n",
              "      <td>30</td>\n",
              "      <td>9</td>\n",
              "      <td>2022</td>\n",
              "      <td>9</td>\n",
              "      <td>21</td>\n",
              "      <td>ทางโค้งกว้าง</td>\n",
              "      <td>ไม่มีความลาดชัน</td>\n",
              "      <td>2</td>\n",
              "      <td>ACC</td>\n",
              "    </tr>\n",
              "    <tr>\n",
              "      <th>5729</th>\n",
              "      <td>แขวงคลองสองต้นนุ่น - พิมพา</td>\n",
              "      <td>รถปิคอัพบรรทุก 4 ล้อ</td>\n",
              "      <td>Fair</td>\n",
              "      <td>30</td>\n",
              "      <td>9</td>\n",
              "      <td>2022</td>\n",
              "      <td>18</td>\n",
              "      <td>4</td>\n",
              "      <td>ทางตรง</td>\n",
              "      <td>ไม่มีความลาดชัน</td>\n",
              "      <td>4</td>\n",
              "      <td>ACC</td>\n",
              "    </tr>\n",
              "    <tr>\n",
              "      <th>5730</th>\n",
              "      <td>รามอินทรา-อาจณรงค์</td>\n",
              "      <td>อื่นๆ</td>\n",
              "      <td>Fair</td>\n",
              "      <td>30</td>\n",
              "      <td>9</td>\n",
              "      <td>2022</td>\n",
              "      <td>18</td>\n",
              "      <td>48</td>\n",
              "      <td>ทางตรง</td>\n",
              "      <td>ไม่มีความลาดชัน</td>\n",
              "      <td>4</td>\n",
              "      <td>ACC</td>\n",
              "    </tr>\n",
              "    <tr>\n",
              "      <th>5731</th>\n",
              "      <td>พญาไท-บางโคล่</td>\n",
              "      <td>อื่นๆ</td>\n",
              "      <td>Fair</td>\n",
              "      <td>30</td>\n",
              "      <td>9</td>\n",
              "      <td>2022</td>\n",
              "      <td>21</td>\n",
              "      <td>33</td>\n",
              "      <td>ทางแยกต่างระดับ/Ramps</td>\n",
              "      <td>ไม่มีความลาดชัน</td>\n",
              "      <td>5</td>\n",
              "      <td>ACC</td>\n",
              "    </tr>\n",
              "  </tbody>\n",
              "</table>\n",
              "<p>5732 rows × 12 columns</p>\n",
              "</div>\n",
              "      <button class=\"colab-df-convert\" onclick=\"convertToInteractive('df-4a5595f3-22e3-4150-9268-1c88725c107c')\"\n",
              "              title=\"Convert this dataframe to an interactive table.\"\n",
              "              style=\"display:none;\">\n",
              "        \n",
              "  <svg xmlns=\"http://www.w3.org/2000/svg\" height=\"24px\"viewBox=\"0 0 24 24\"\n",
              "       width=\"24px\">\n",
              "    <path d=\"M0 0h24v24H0V0z\" fill=\"none\"/>\n",
              "    <path d=\"M18.56 5.44l.94 2.06.94-2.06 2.06-.94-2.06-.94-.94-2.06-.94 2.06-2.06.94zm-11 1L8.5 8.5l.94-2.06 2.06-.94-2.06-.94L8.5 2.5l-.94 2.06-2.06.94zm10 10l.94 2.06.94-2.06 2.06-.94-2.06-.94-.94-2.06-.94 2.06-2.06.94z\"/><path d=\"M17.41 7.96l-1.37-1.37c-.4-.4-.92-.59-1.43-.59-.52 0-1.04.2-1.43.59L10.3 9.45l-7.72 7.72c-.78.78-.78 2.05 0 2.83L4 21.41c.39.39.9.59 1.41.59.51 0 1.02-.2 1.41-.59l7.78-7.78 2.81-2.81c.8-.78.8-2.07 0-2.86zM5.41 20L4 18.59l7.72-7.72 1.47 1.35L5.41 20z\"/>\n",
              "  </svg>\n",
              "      </button>\n",
              "      \n",
              "  <style>\n",
              "    .colab-df-container {\n",
              "      display:flex;\n",
              "      flex-wrap:wrap;\n",
              "      gap: 12px;\n",
              "    }\n",
              "\n",
              "    .colab-df-convert {\n",
              "      background-color: #E8F0FE;\n",
              "      border: none;\n",
              "      border-radius: 50%;\n",
              "      cursor: pointer;\n",
              "      display: none;\n",
              "      fill: #1967D2;\n",
              "      height: 32px;\n",
              "      padding: 0 0 0 0;\n",
              "      width: 32px;\n",
              "    }\n",
              "\n",
              "    .colab-df-convert:hover {\n",
              "      background-color: #E2EBFA;\n",
              "      box-shadow: 0px 1px 2px rgba(60, 64, 67, 0.3), 0px 1px 3px 1px rgba(60, 64, 67, 0.15);\n",
              "      fill: #174EA6;\n",
              "    }\n",
              "\n",
              "    [theme=dark] .colab-df-convert {\n",
              "      background-color: #3B4455;\n",
              "      fill: #D2E3FC;\n",
              "    }\n",
              "\n",
              "    [theme=dark] .colab-df-convert:hover {\n",
              "      background-color: #434B5C;\n",
              "      box-shadow: 0px 1px 3px 1px rgba(0, 0, 0, 0.15);\n",
              "      filter: drop-shadow(0px 1px 2px rgba(0, 0, 0, 0.3));\n",
              "      fill: #FFFFFF;\n",
              "    }\n",
              "  </style>\n",
              "\n",
              "      <script>\n",
              "        const buttonEl =\n",
              "          document.querySelector('#df-4a5595f3-22e3-4150-9268-1c88725c107c button.colab-df-convert');\n",
              "        buttonEl.style.display =\n",
              "          google.colab.kernel.accessAllowed ? 'block' : 'none';\n",
              "\n",
              "        async function convertToInteractive(key) {\n",
              "          const element = document.querySelector('#df-4a5595f3-22e3-4150-9268-1c88725c107c');\n",
              "          const dataTable =\n",
              "            await google.colab.kernel.invokeFunction('convertToInteractive',\n",
              "                                                     [key], {});\n",
              "          if (!dataTable) return;\n",
              "\n",
              "          const docLinkHtml = 'Like what you see? Visit the ' +\n",
              "            '<a target=\"_blank\" href=https://colab.research.google.com/notebooks/data_table.ipynb>data table notebook</a>'\n",
              "            + ' to learn more about interactive tables.';\n",
              "          element.innerHTML = '';\n",
              "          dataTable['output_type'] = 'display_data';\n",
              "          await google.colab.output.renderOutput(dataTable, element);\n",
              "          const docLink = document.createElement('div');\n",
              "          docLink.innerHTML = docLinkHtml;\n",
              "          element.appendChild(docLink);\n",
              "        }\n",
              "      </script>\n",
              "    </div>\n",
              "  </div>\n",
              "  "
            ]
          },
          "metadata": {},
          "execution_count": 31
        }
      ]
    },
    {
      "cell_type": "code",
      "source": [
        "# ลบคอลัมน์ที่ไม่ใช้งาน\n",
        "df_Htm.drop('route_acc', inplace=True, axis=1)"
      ],
      "metadata": {
        "id": "I3lun-mESI5h"
      },
      "execution_count": null,
      "outputs": []
    },
    {
      "cell_type": "code",
      "source": [
        "# ตรวจสอบชนิดข้อมูลเบื้องต้น\n",
        "df_Htm.dtypes"
      ],
      "metadata": {
        "colab": {
          "base_uri": "https://localhost:8080/"
        },
        "id": "V5gK-3HLRn9P",
        "outputId": "4cdab367-e12e-4d9e-9a62-9257b5461930"
      },
      "execution_count": null,
      "outputs": [
        {
          "output_type": "execute_result",
          "data": {
            "text/plain": [
              "type_acc        object\n",
              "cnd_acc         object\n",
              "day_acc         object\n",
              "month_acc       object\n",
              "years_acc       object\n",
              "hours_acc        int64\n",
              "minutes_acc      int64\n",
              "scene_acc       object\n",
              "road_surface    object\n",
              "time_acc        object\n",
              "level_acc       object\n",
              "dtype: object"
            ]
          },
          "metadata": {},
          "execution_count": 33
        }
      ]
    },
    {
      "cell_type": "code",
      "source": [
        "from sklearn.preprocessing import LabelEncoder\n",
        "lab = LabelEncoder()\n",
        "\n",
        "# encode\n",
        "df_Htm['type_acc'] = lab.fit_transform(df_Htm['type_acc'])\n",
        "df_Htm['cnd_acc'] = lab.fit_transform(df_Htm['cnd_acc'])\n",
        "df_Htm['scene_acc'] = lab.fit_transform(df_Htm['scene_acc'])\n",
        "df_Htm['road_surface'] = lab.fit_transform(df_Htm['road_surface'])\n",
        "df_Htm['level_acc'] = lab.fit_transform(df_Htm['level_acc'])"
      ],
      "metadata": {
        "id": "LyjxPXRgRn4p"
      },
      "execution_count": null,
      "outputs": []
    },
    {
      "cell_type": "code",
      "source": [
        "# แปลงข้อมูลให้เป็น int\n",
        "df_Htm[['day_acc', 'month_acc','years_acc', 'time_acc']] = df_Htm[['day_acc', 'month_acc','years_acc', 'time_acc']].astype(str).astype(int)"
      ],
      "metadata": {
        "id": "MNZIdKucRn0q"
      },
      "execution_count": null,
      "outputs": []
    },
    {
      "cell_type": "code",
      "source": [
        "df_Htm.dtypes"
      ],
      "metadata": {
        "colab": {
          "base_uri": "https://localhost:8080/"
        },
        "id": "d1XNzBBMSnMm",
        "outputId": "68cb7e4a-3bc3-4663-f374-201198d90b12"
      },
      "execution_count": null,
      "outputs": [
        {
          "output_type": "execute_result",
          "data": {
            "text/plain": [
              "type_acc        int64\n",
              "cnd_acc         int64\n",
              "day_acc         int64\n",
              "month_acc       int64\n",
              "years_acc       int64\n",
              "hours_acc       int64\n",
              "minutes_acc     int64\n",
              "scene_acc       int64\n",
              "road_surface    int64\n",
              "time_acc        int64\n",
              "level_acc       int64\n",
              "dtype: object"
            ]
          },
          "metadata": {},
          "execution_count": 36
        }
      ]
    },
    {
      "cell_type": "code",
      "source": [
        "# ดูค่า correlation\n",
        "df_Htm.corr()"
      ],
      "metadata": {
        "colab": {
          "base_uri": "https://localhost:8080/",
          "height": 395
        },
        "id": "0T5QTUsQSpoi",
        "outputId": "d285faa6-369a-4548-bd4e-eccdd8af3bdc"
      },
      "execution_count": null,
      "outputs": [
        {
          "output_type": "execute_result",
          "data": {
            "text/plain": [
              "              type_acc   cnd_acc   day_acc  month_acc  years_acc  hours_acc  \\\n",
              "type_acc      1.000000  0.023840 -0.006916  -0.003867   0.203709  -0.006177   \n",
              "cnd_acc       0.023840  1.000000 -0.035147   0.109976   0.008201   0.009561   \n",
              "day_acc      -0.006916 -0.035147  1.000000   0.078434   0.009894   0.013650   \n",
              "month_acc    -0.003867  0.109976  0.078434   1.000000  -0.065149   0.008231   \n",
              "years_acc     0.203709  0.008201  0.009894  -0.065149   1.000000  -0.007338   \n",
              "hours_acc    -0.006177  0.009561  0.013650   0.008231  -0.007338   1.000000   \n",
              "minutes_acc   0.009929 -0.004138  0.017400   0.005364   0.083641   0.034597   \n",
              "scene_acc     0.054226  0.008860  0.019872  -0.019684   0.120604  -0.023658   \n",
              "road_surface  0.106067 -0.005302  0.004480  -0.018265  -0.083979   0.015587   \n",
              "time_acc     -0.008098  0.013831  0.013314   0.009658  -0.008549   0.984536   \n",
              "level_acc    -0.184982 -0.024306  0.010523   0.012224   0.005653  -0.018122   \n",
              "\n",
              "              minutes_acc  scene_acc  road_surface  time_acc  level_acc  \n",
              "type_acc         0.009929   0.054226      0.106067 -0.008098  -0.184982  \n",
              "cnd_acc         -0.004138   0.008860     -0.005302  0.013831  -0.024306  \n",
              "day_acc          0.017400   0.019872      0.004480  0.013314   0.010523  \n",
              "month_acc        0.005364  -0.019684     -0.018265  0.009658   0.012224  \n",
              "years_acc        0.083641   0.120604     -0.083979 -0.008549   0.005653  \n",
              "hours_acc        0.034597  -0.023658      0.015587  0.984536  -0.018122  \n",
              "minutes_acc      1.000000  -0.005143     -0.008757  0.036306   0.004725  \n",
              "scene_acc       -0.005143   1.000000     -0.024336 -0.023024  -0.014339  \n",
              "road_surface    -0.008757  -0.024336      1.000000  0.016607  -0.056116  \n",
              "time_acc         0.036306  -0.023024      0.016607  1.000000  -0.014784  \n",
              "level_acc        0.004725  -0.014339     -0.056116 -0.014784   1.000000  "
            ],
            "text/html": [
              "\n",
              "  <div id=\"df-18aaf50a-410f-46ef-82e1-bfe5226c479e\">\n",
              "    <div class=\"colab-df-container\">\n",
              "      <div>\n",
              "<style scoped>\n",
              "    .dataframe tbody tr th:only-of-type {\n",
              "        vertical-align: middle;\n",
              "    }\n",
              "\n",
              "    .dataframe tbody tr th {\n",
              "        vertical-align: top;\n",
              "    }\n",
              "\n",
              "    .dataframe thead th {\n",
              "        text-align: right;\n",
              "    }\n",
              "</style>\n",
              "<table border=\"1\" class=\"dataframe\">\n",
              "  <thead>\n",
              "    <tr style=\"text-align: right;\">\n",
              "      <th></th>\n",
              "      <th>type_acc</th>\n",
              "      <th>cnd_acc</th>\n",
              "      <th>day_acc</th>\n",
              "      <th>month_acc</th>\n",
              "      <th>years_acc</th>\n",
              "      <th>hours_acc</th>\n",
              "      <th>minutes_acc</th>\n",
              "      <th>scene_acc</th>\n",
              "      <th>road_surface</th>\n",
              "      <th>time_acc</th>\n",
              "      <th>level_acc</th>\n",
              "    </tr>\n",
              "  </thead>\n",
              "  <tbody>\n",
              "    <tr>\n",
              "      <th>type_acc</th>\n",
              "      <td>1.000000</td>\n",
              "      <td>0.023840</td>\n",
              "      <td>-0.006916</td>\n",
              "      <td>-0.003867</td>\n",
              "      <td>0.203709</td>\n",
              "      <td>-0.006177</td>\n",
              "      <td>0.009929</td>\n",
              "      <td>0.054226</td>\n",
              "      <td>0.106067</td>\n",
              "      <td>-0.008098</td>\n",
              "      <td>-0.184982</td>\n",
              "    </tr>\n",
              "    <tr>\n",
              "      <th>cnd_acc</th>\n",
              "      <td>0.023840</td>\n",
              "      <td>1.000000</td>\n",
              "      <td>-0.035147</td>\n",
              "      <td>0.109976</td>\n",
              "      <td>0.008201</td>\n",
              "      <td>0.009561</td>\n",
              "      <td>-0.004138</td>\n",
              "      <td>0.008860</td>\n",
              "      <td>-0.005302</td>\n",
              "      <td>0.013831</td>\n",
              "      <td>-0.024306</td>\n",
              "    </tr>\n",
              "    <tr>\n",
              "      <th>day_acc</th>\n",
              "      <td>-0.006916</td>\n",
              "      <td>-0.035147</td>\n",
              "      <td>1.000000</td>\n",
              "      <td>0.078434</td>\n",
              "      <td>0.009894</td>\n",
              "      <td>0.013650</td>\n",
              "      <td>0.017400</td>\n",
              "      <td>0.019872</td>\n",
              "      <td>0.004480</td>\n",
              "      <td>0.013314</td>\n",
              "      <td>0.010523</td>\n",
              "    </tr>\n",
              "    <tr>\n",
              "      <th>month_acc</th>\n",
              "      <td>-0.003867</td>\n",
              "      <td>0.109976</td>\n",
              "      <td>0.078434</td>\n",
              "      <td>1.000000</td>\n",
              "      <td>-0.065149</td>\n",
              "      <td>0.008231</td>\n",
              "      <td>0.005364</td>\n",
              "      <td>-0.019684</td>\n",
              "      <td>-0.018265</td>\n",
              "      <td>0.009658</td>\n",
              "      <td>0.012224</td>\n",
              "    </tr>\n",
              "    <tr>\n",
              "      <th>years_acc</th>\n",
              "      <td>0.203709</td>\n",
              "      <td>0.008201</td>\n",
              "      <td>0.009894</td>\n",
              "      <td>-0.065149</td>\n",
              "      <td>1.000000</td>\n",
              "      <td>-0.007338</td>\n",
              "      <td>0.083641</td>\n",
              "      <td>0.120604</td>\n",
              "      <td>-0.083979</td>\n",
              "      <td>-0.008549</td>\n",
              "      <td>0.005653</td>\n",
              "    </tr>\n",
              "    <tr>\n",
              "      <th>hours_acc</th>\n",
              "      <td>-0.006177</td>\n",
              "      <td>0.009561</td>\n",
              "      <td>0.013650</td>\n",
              "      <td>0.008231</td>\n",
              "      <td>-0.007338</td>\n",
              "      <td>1.000000</td>\n",
              "      <td>0.034597</td>\n",
              "      <td>-0.023658</td>\n",
              "      <td>0.015587</td>\n",
              "      <td>0.984536</td>\n",
              "      <td>-0.018122</td>\n",
              "    </tr>\n",
              "    <tr>\n",
              "      <th>minutes_acc</th>\n",
              "      <td>0.009929</td>\n",
              "      <td>-0.004138</td>\n",
              "      <td>0.017400</td>\n",
              "      <td>0.005364</td>\n",
              "      <td>0.083641</td>\n",
              "      <td>0.034597</td>\n",
              "      <td>1.000000</td>\n",
              "      <td>-0.005143</td>\n",
              "      <td>-0.008757</td>\n",
              "      <td>0.036306</td>\n",
              "      <td>0.004725</td>\n",
              "    </tr>\n",
              "    <tr>\n",
              "      <th>scene_acc</th>\n",
              "      <td>0.054226</td>\n",
              "      <td>0.008860</td>\n",
              "      <td>0.019872</td>\n",
              "      <td>-0.019684</td>\n",
              "      <td>0.120604</td>\n",
              "      <td>-0.023658</td>\n",
              "      <td>-0.005143</td>\n",
              "      <td>1.000000</td>\n",
              "      <td>-0.024336</td>\n",
              "      <td>-0.023024</td>\n",
              "      <td>-0.014339</td>\n",
              "    </tr>\n",
              "    <tr>\n",
              "      <th>road_surface</th>\n",
              "      <td>0.106067</td>\n",
              "      <td>-0.005302</td>\n",
              "      <td>0.004480</td>\n",
              "      <td>-0.018265</td>\n",
              "      <td>-0.083979</td>\n",
              "      <td>0.015587</td>\n",
              "      <td>-0.008757</td>\n",
              "      <td>-0.024336</td>\n",
              "      <td>1.000000</td>\n",
              "      <td>0.016607</td>\n",
              "      <td>-0.056116</td>\n",
              "    </tr>\n",
              "    <tr>\n",
              "      <th>time_acc</th>\n",
              "      <td>-0.008098</td>\n",
              "      <td>0.013831</td>\n",
              "      <td>0.013314</td>\n",
              "      <td>0.009658</td>\n",
              "      <td>-0.008549</td>\n",
              "      <td>0.984536</td>\n",
              "      <td>0.036306</td>\n",
              "      <td>-0.023024</td>\n",
              "      <td>0.016607</td>\n",
              "      <td>1.000000</td>\n",
              "      <td>-0.014784</td>\n",
              "    </tr>\n",
              "    <tr>\n",
              "      <th>level_acc</th>\n",
              "      <td>-0.184982</td>\n",
              "      <td>-0.024306</td>\n",
              "      <td>0.010523</td>\n",
              "      <td>0.012224</td>\n",
              "      <td>0.005653</td>\n",
              "      <td>-0.018122</td>\n",
              "      <td>0.004725</td>\n",
              "      <td>-0.014339</td>\n",
              "      <td>-0.056116</td>\n",
              "      <td>-0.014784</td>\n",
              "      <td>1.000000</td>\n",
              "    </tr>\n",
              "  </tbody>\n",
              "</table>\n",
              "</div>\n",
              "      <button class=\"colab-df-convert\" onclick=\"convertToInteractive('df-18aaf50a-410f-46ef-82e1-bfe5226c479e')\"\n",
              "              title=\"Convert this dataframe to an interactive table.\"\n",
              "              style=\"display:none;\">\n",
              "        \n",
              "  <svg xmlns=\"http://www.w3.org/2000/svg\" height=\"24px\"viewBox=\"0 0 24 24\"\n",
              "       width=\"24px\">\n",
              "    <path d=\"M0 0h24v24H0V0z\" fill=\"none\"/>\n",
              "    <path d=\"M18.56 5.44l.94 2.06.94-2.06 2.06-.94-2.06-.94-.94-2.06-.94 2.06-2.06.94zm-11 1L8.5 8.5l.94-2.06 2.06-.94-2.06-.94L8.5 2.5l-.94 2.06-2.06.94zm10 10l.94 2.06.94-2.06 2.06-.94-2.06-.94-.94-2.06-.94 2.06-2.06.94z\"/><path d=\"M17.41 7.96l-1.37-1.37c-.4-.4-.92-.59-1.43-.59-.52 0-1.04.2-1.43.59L10.3 9.45l-7.72 7.72c-.78.78-.78 2.05 0 2.83L4 21.41c.39.39.9.59 1.41.59.51 0 1.02-.2 1.41-.59l7.78-7.78 2.81-2.81c.8-.78.8-2.07 0-2.86zM5.41 20L4 18.59l7.72-7.72 1.47 1.35L5.41 20z\"/>\n",
              "  </svg>\n",
              "      </button>\n",
              "      \n",
              "  <style>\n",
              "    .colab-df-container {\n",
              "      display:flex;\n",
              "      flex-wrap:wrap;\n",
              "      gap: 12px;\n",
              "    }\n",
              "\n",
              "    .colab-df-convert {\n",
              "      background-color: #E8F0FE;\n",
              "      border: none;\n",
              "      border-radius: 50%;\n",
              "      cursor: pointer;\n",
              "      display: none;\n",
              "      fill: #1967D2;\n",
              "      height: 32px;\n",
              "      padding: 0 0 0 0;\n",
              "      width: 32px;\n",
              "    }\n",
              "\n",
              "    .colab-df-convert:hover {\n",
              "      background-color: #E2EBFA;\n",
              "      box-shadow: 0px 1px 2px rgba(60, 64, 67, 0.3), 0px 1px 3px 1px rgba(60, 64, 67, 0.15);\n",
              "      fill: #174EA6;\n",
              "    }\n",
              "\n",
              "    [theme=dark] .colab-df-convert {\n",
              "      background-color: #3B4455;\n",
              "      fill: #D2E3FC;\n",
              "    }\n",
              "\n",
              "    [theme=dark] .colab-df-convert:hover {\n",
              "      background-color: #434B5C;\n",
              "      box-shadow: 0px 1px 3px 1px rgba(0, 0, 0, 0.15);\n",
              "      filter: drop-shadow(0px 1px 2px rgba(0, 0, 0, 0.3));\n",
              "      fill: #FFFFFF;\n",
              "    }\n",
              "  </style>\n",
              "\n",
              "      <script>\n",
              "        const buttonEl =\n",
              "          document.querySelector('#df-18aaf50a-410f-46ef-82e1-bfe5226c479e button.colab-df-convert');\n",
              "        buttonEl.style.display =\n",
              "          google.colab.kernel.accessAllowed ? 'block' : 'none';\n",
              "\n",
              "        async function convertToInteractive(key) {\n",
              "          const element = document.querySelector('#df-18aaf50a-410f-46ef-82e1-bfe5226c479e');\n",
              "          const dataTable =\n",
              "            await google.colab.kernel.invokeFunction('convertToInteractive',\n",
              "                                                     [key], {});\n",
              "          if (!dataTable) return;\n",
              "\n",
              "          const docLinkHtml = 'Like what you see? Visit the ' +\n",
              "            '<a target=\"_blank\" href=https://colab.research.google.com/notebooks/data_table.ipynb>data table notebook</a>'\n",
              "            + ' to learn more about interactive tables.';\n",
              "          element.innerHTML = '';\n",
              "          dataTable['output_type'] = 'display_data';\n",
              "          await google.colab.output.renderOutput(dataTable, element);\n",
              "          const docLink = document.createElement('div');\n",
              "          docLink.innerHTML = docLinkHtml;\n",
              "          element.appendChild(docLink);\n",
              "        }\n",
              "      </script>\n",
              "    </div>\n",
              "  </div>\n",
              "  "
            ]
          },
          "metadata": {},
          "execution_count": 37
        }
      ]
    },
    {
      "cell_type": "code",
      "source": [
        "# plot heatmap\n",
        "import matplotlib.pyplot as plt\n",
        "import seaborn as sns\n",
        "fig, ax = plt.subplots(figsize=(15,10))\n",
        "sns.heatmap(df_Htm.corr(), annot=True, cmap=\"plasma\")\n",
        "plt.show"
      ],
      "metadata": {
        "colab": {
          "base_uri": "https://localhost:8080/",
          "height": 612
        },
        "id": "rFF_sKVISv9o",
        "outputId": "a293ba9c-def5-4009-f488-ffbc37182aea"
      },
      "execution_count": null,
      "outputs": [
        {
          "output_type": "execute_result",
          "data": {
            "text/plain": [
              "<function matplotlib.pyplot.show(*args, **kw)>"
            ]
          },
          "metadata": {},
          "execution_count": 38
        },
        {
          "output_type": "display_data",
          "data": {
            "text/plain": [
              "<Figure size 1080x720 with 2 Axes>"
            ],
            "image/png": "[encoded data removed]"
          },
          "metadata": {
            "needs_background": "light"
          }
        }
      ]
    },
    {
      "cell_type": "code",
      "source": [
        "# ลบคอลัมน์ทั้งสองทิ้งเนื่องจากไม่ได้มีความสัมพันธ์มากนัก\n",
        "df = df.drop(columns=[\"hours_acc\"])\n",
        "df = df.drop(columns=[\"minutes_acc\"])"
      ],
      "metadata": {
        "id": "eLWn-hoVvTgL"
      },
      "execution_count": null,
      "outputs": []
    },
    {
      "cell_type": "markdown",
      "source": [
        "--------------------------------"
      ],
      "metadata": {
        "id": "UuRoUEkRRh7d"
      }
    },
    {
      "cell_type": "markdown",
      "source": [
        "#Data preprocessing และ เปรียบเทียบ model "
      ],
      "metadata": {
        "id": "cV8nYYQ1O3Bl"
      }
    },
    {
      "cell_type": "code",
      "source": [
        "# copy df to df_select\n",
        "df_select = df.copy()\n",
        "\n",
        "# ลบคอลัมน์ที่ไม่ใช้งาน\n",
        "df_select.drop(columns=[\"route_acc\"], inplace=True, axis=1)"
      ],
      "metadata": {
        "id": "RDHaCMU6PXXi"
      },
      "execution_count": null,
      "outputs": []
    },
    {
      "cell_type": "code",
      "source": [
        "df_select"
      ],
      "metadata": {
        "colab": {
          "base_uri": "https://localhost:8080/",
          "height": 424
        },
        "id": "MmAwn89ypaxF",
        "outputId": "c98b8d8f-e1ae-4060-a1fa-577ef88ccd85"
      },
      "execution_count": null,
      "outputs": [
        {
          "output_type": "execute_result",
          "data": {
            "text/plain": [
              "                                   type_acc cnd_acc day_acc month_acc  \\\n",
              "0                                     อื่นๆ    Fair       1         1   \n",
              "1                                     อื่นๆ    Fair       1         1   \n",
              "2     รถยนต์นั่งส่วนบุคคล/รถยนต์นั่งสาธารณะ    Fair       1         1   \n",
              "3     รถยนต์นั่งส่วนบุคคล/รถยนต์นั่งสาธารณะ    Fair       1         1   \n",
              "4                      รถปิคอัพบรรทุก 4 ล้อ    Fair       1         1   \n",
              "...                                     ...     ...     ...       ...   \n",
              "5727                                  อื่นๆ    Fair      29         9   \n",
              "5728                                  อื่นๆ    Fair      30         9   \n",
              "5729                   รถปิคอัพบรรทุก 4 ล้อ    Fair      30         9   \n",
              "5730                                  อื่นๆ    Fair      30         9   \n",
              "5731                                  อื่นๆ    Fair      30         9   \n",
              "\n",
              "     years_acc  hours_acc  minutes_acc              scene_acc  \\\n",
              "0         2019          3            5                  อื่นๆ   \n",
              "1         2019          5           42                 ทางตรง   \n",
              "2         2019         10           10                 ทางตรง   \n",
              "3         2019         17           30                 ทางตรง   \n",
              "4         2019         19           20                 ทางตรง   \n",
              "...        ...        ...          ...                    ...   \n",
              "5727      2022         23           40                 ทางตรง   \n",
              "5728      2022          9           21           ทางโค้งกว้าง   \n",
              "5729      2022         18            4                 ทางตรง   \n",
              "5730      2022         18           48                 ทางตรง   \n",
              "5731      2022         21           33  ทางแยกต่างระดับ/Ramps   \n",
              "\n",
              "         road_surface time_acc level_acc  \n",
              "0     ไม่มีความลาดชัน        0       INJ  \n",
              "1     ไม่มีความลาดชัน        1       ACC  \n",
              "2     ไม่มีความลาดชัน        2       ACC  \n",
              "3     ไม่มีความลาดชัน        4       ACC  \n",
              "4     ไม่มีความลาดชัน        4       INJ  \n",
              "...               ...      ...       ...  \n",
              "5727  ไม่มีความลาดชัน        5       ACC  \n",
              "5728  ไม่มีความลาดชัน        2       ACC  \n",
              "5729  ไม่มีความลาดชัน        4       ACC  \n",
              "5730  ไม่มีความลาดชัน        4       ACC  \n",
              "5731  ไม่มีความลาดชัน        5       ACC  \n",
              "\n",
              "[5732 rows x 11 columns]"
            ],
            "text/html": [
              "\n",
              "  <div id=\"df-30e7baa9-d15f-424b-9ff0-9120c529964f\">\n",
              "    <div class=\"colab-df-container\">\n",
              "      <div>\n",
              "<style scoped>\n",
              "    .dataframe tbody tr th:only-of-type {\n",
              "        vertical-align: middle;\n",
              "    }\n",
              "\n",
              "    .dataframe tbody tr th {\n",
              "        vertical-align: top;\n",
              "    }\n",
              "\n",
              "    .dataframe thead th {\n",
              "        text-align: right;\n",
              "    }\n",
              "</style>\n",
              "<table border=\"1\" class=\"dataframe\">\n",
              "  <thead>\n",
              "    <tr style=\"text-align: right;\">\n",
              "      <th></th>\n",
              "      <th>type_acc</th>\n",
              "      <th>cnd_acc</th>\n",
              "      <th>day_acc</th>\n",
              "      <th>month_acc</th>\n",
              "      <th>years_acc</th>\n",
              "      <th>hours_acc</th>\n",
              "      <th>minutes_acc</th>\n",
              "      <th>scene_acc</th>\n",
              "      <th>road_surface</th>\n",
              "      <th>time_acc</th>\n",
              "      <th>level_acc</th>\n",
              "    </tr>\n",
              "  </thead>\n",
              "  <tbody>\n",
              "    <tr>\n",
              "      <th>0</th>\n",
              "      <td>อื่นๆ</td>\n",
              "      <td>Fair</td>\n",
              "      <td>1</td>\n",
              "      <td>1</td>\n",
              "      <td>2019</td>\n",
              "      <td>3</td>\n",
              "      <td>5</td>\n",
              "      <td>อื่นๆ</td>\n",
              "      <td>ไม่มีความลาดชัน</td>\n",
              "      <td>0</td>\n",
              "      <td>INJ</td>\n",
              "    </tr>\n",
              "    <tr>\n",
              "      <th>1</th>\n",
              "      <td>อื่นๆ</td>\n",
              "      <td>Fair</td>\n",
              "      <td>1</td>\n",
              "      <td>1</td>\n",
              "      <td>2019</td>\n",
              "      <td>5</td>\n",
              "      <td>42</td>\n",
              "      <td>ทางตรง</td>\n",
              "      <td>ไม่มีความลาดชัน</td>\n",
              "      <td>1</td>\n",
              "      <td>ACC</td>\n",
              "    </tr>\n",
              "    <tr>\n",
              "      <th>2</th>\n",
              "      <td>รถยนต์นั่งส่วนบุคคล/รถยนต์นั่งสาธารณะ</td>\n",
              "      <td>Fair</td>\n",
              "      <td>1</td>\n",
              "      <td>1</td>\n",
              "      <td>2019</td>\n",
              "      <td>10</td>\n",
              "      <td>10</td>\n",
              "      <td>ทางตรง</td>\n",
              "      <td>ไม่มีความลาดชัน</td>\n",
              "      <td>2</td>\n",
              "      <td>ACC</td>\n",
              "    </tr>\n",
              "    <tr>\n",
              "      <th>3</th>\n",
              "      <td>รถยนต์นั่งส่วนบุคคล/รถยนต์นั่งสาธารณะ</td>\n",
              "      <td>Fair</td>\n",
              "      <td>1</td>\n",
              "      <td>1</td>\n",
              "      <td>2019</td>\n",
              "      <td>17</td>\n",
              "      <td>30</td>\n",
              "      <td>ทางตรง</td>\n",
              "      <td>ไม่มีความลาดชัน</td>\n",
              "      <td>4</td>\n",
              "      <td>ACC</td>\n",
              "    </tr>\n",
              "    <tr>\n",
              "      <th>4</th>\n",
              "      <td>รถปิคอัพบรรทุก 4 ล้อ</td>\n",
              "      <td>Fair</td>\n",
              "      <td>1</td>\n",
              "      <td>1</td>\n",
              "      <td>2019</td>\n",
              "      <td>19</td>\n",
              "      <td>20</td>\n",
              "      <td>ทางตรง</td>\n",
              "      <td>ไม่มีความลาดชัน</td>\n",
              "      <td>4</td>\n",
              "      <td>INJ</td>\n",
              "    </tr>\n",
              "    <tr>\n",
              "      <th>...</th>\n",
              "      <td>...</td>\n",
              "      <td>...</td>\n",
              "      <td>...</td>\n",
              "      <td>...</td>\n",
              "      <td>...</td>\n",
              "      <td>...</td>\n",
              "      <td>...</td>\n",
              "      <td>...</td>\n",
              "      <td>...</td>\n",
              "      <td>...</td>\n",
              "      <td>...</td>\n",
              "    </tr>\n",
              "    <tr>\n",
              "      <th>5727</th>\n",
              "      <td>อื่นๆ</td>\n",
              "      <td>Fair</td>\n",
              "      <td>29</td>\n",
              "      <td>9</td>\n",
              "      <td>2022</td>\n",
              "      <td>23</td>\n",
              "      <td>40</td>\n",
              "      <td>ทางตรง</td>\n",
              "      <td>ไม่มีความลาดชัน</td>\n",
              "      <td>5</td>\n",
              "      <td>ACC</td>\n",
              "    </tr>\n",
              "    <tr>\n",
              "      <th>5728</th>\n",
              "      <td>อื่นๆ</td>\n",
              "      <td>Fair</td>\n",
              "      <td>30</td>\n",
              "      <td>9</td>\n",
              "      <td>2022</td>\n",
              "      <td>9</td>\n",
              "      <td>21</td>\n",
              "      <td>ทางโค้งกว้าง</td>\n",
              "      <td>ไม่มีความลาดชัน</td>\n",
              "      <td>2</td>\n",
              "      <td>ACC</td>\n",
              "    </tr>\n",
              "    <tr>\n",
              "      <th>5729</th>\n",
              "      <td>รถปิคอัพบรรทุก 4 ล้อ</td>\n",
              "      <td>Fair</td>\n",
              "      <td>30</td>\n",
              "      <td>9</td>\n",
              "      <td>2022</td>\n",
              "      <td>18</td>\n",
              "      <td>4</td>\n",
              "      <td>ทางตรง</td>\n",
              "      <td>ไม่มีความลาดชัน</td>\n",
              "      <td>4</td>\n",
              "      <td>ACC</td>\n",
              "    </tr>\n",
              "    <tr>\n",
              "      <th>5730</th>\n",
              "      <td>อื่นๆ</td>\n",
              "      <td>Fair</td>\n",
              "      <td>30</td>\n",
              "      <td>9</td>\n",
              "      <td>2022</td>\n",
              "      <td>18</td>\n",
              "      <td>48</td>\n",
              "      <td>ทางตรง</td>\n",
              "      <td>ไม่มีความลาดชัน</td>\n",
              "      <td>4</td>\n",
              "      <td>ACC</td>\n",
              "    </tr>\n",
              "    <tr>\n",
              "      <th>5731</th>\n",
              "      <td>อื่นๆ</td>\n",
              "      <td>Fair</td>\n",
              "      <td>30</td>\n",
              "      <td>9</td>\n",
              "      <td>2022</td>\n",
              "      <td>21</td>\n",
              "      <td>33</td>\n",
              "      <td>ทางแยกต่างระดับ/Ramps</td>\n",
              "      <td>ไม่มีความลาดชัน</td>\n",
              "      <td>5</td>\n",
              "      <td>ACC</td>\n",
              "    </tr>\n",
              "  </tbody>\n",
              "</table>\n",
              "<p>5732 rows × 11 columns</p>\n",
              "</div>\n",
              "      <button class=\"colab-df-convert\" onclick=\"convertToInteractive('df-30e7baa9-d15f-424b-9ff0-9120c529964f')\"\n",
              "              title=\"Convert this dataframe to an interactive table.\"\n",
              "              style=\"display:none;\">\n",
              "        \n",
              "  <svg xmlns=\"http://www.w3.org/2000/svg\" height=\"24px\"viewBox=\"0 0 24 24\"\n",
              "       width=\"24px\">\n",
              "    <path d=\"M0 0h24v24H0V0z\" fill=\"none\"/>\n",
              "    <path d=\"M18.56 5.44l.94 2.06.94-2.06 2.06-.94-2.06-.94-.94-2.06-.94 2.06-2.06.94zm-11 1L8.5 8.5l.94-2.06 2.06-.94-2.06-.94L8.5 2.5l-.94 2.06-2.06.94zm10 10l.94 2.06.94-2.06 2.06-.94-2.06-.94-.94-2.06-.94 2.06-2.06.94z\"/><path d=\"M17.41 7.96l-1.37-1.37c-.4-.4-.92-.59-1.43-.59-.52 0-1.04.2-1.43.59L10.3 9.45l-7.72 7.72c-.78.78-.78 2.05 0 2.83L4 21.41c.39.39.9.59 1.41.59.51 0 1.02-.2 1.41-.59l7.78-7.78 2.81-2.81c.8-.78.8-2.07 0-2.86zM5.41 20L4 18.59l7.72-7.72 1.47 1.35L5.41 20z\"/>\n",
              "  </svg>\n",
              "      </button>\n",
              "      \n",
              "  <style>\n",
              "    .colab-df-container {\n",
              "      display:flex;\n",
              "      flex-wrap:wrap;\n",
              "      gap: 12px;\n",
              "    }\n",
              "\n",
              "    .colab-df-convert {\n",
              "      background-color: #E8F0FE;\n",
              "      border: none;\n",
              "      border-radius: 50%;\n",
              "      cursor: pointer;\n",
              "      display: none;\n",
              "      fill: #1967D2;\n",
              "      height: 32px;\n",
              "      padding: 0 0 0 0;\n",
              "      width: 32px;\n",
              "    }\n",
              "\n",
              "    .colab-df-convert:hover {\n",
              "      background-color: #E2EBFA;\n",
              "      box-shadow: 0px 1px 2px rgba(60, 64, 67, 0.3), 0px 1px 3px 1px rgba(60, 64, 67, 0.15);\n",
              "      fill: #174EA6;\n",
              "    }\n",
              "\n",
              "    [theme=dark] .colab-df-convert {\n",
              "      background-color: #3B4455;\n",
              "      fill: #D2E3FC;\n",
              "    }\n",
              "\n",
              "    [theme=dark] .colab-df-convert:hover {\n",
              "      background-color: #434B5C;\n",
              "      box-shadow: 0px 1px 3px 1px rgba(0, 0, 0, 0.15);\n",
              "      filter: drop-shadow(0px 1px 2px rgba(0, 0, 0, 0.3));\n",
              "      fill: #FFFFFF;\n",
              "    }\n",
              "  </style>\n",
              "\n",
              "      <script>\n",
              "        const buttonEl =\n",
              "          document.querySelector('#df-30e7baa9-d15f-424b-9ff0-9120c529964f button.colab-df-convert');\n",
              "        buttonEl.style.display =\n",
              "          google.colab.kernel.accessAllowed ? 'block' : 'none';\n",
              "\n",
              "        async function convertToInteractive(key) {\n",
              "          const element = document.querySelector('#df-30e7baa9-d15f-424b-9ff0-9120c529964f');\n",
              "          const dataTable =\n",
              "            await google.colab.kernel.invokeFunction('convertToInteractive',\n",
              "                                                     [key], {});\n",
              "          if (!dataTable) return;\n",
              "\n",
              "          const docLinkHtml = 'Like what you see? Visit the ' +\n",
              "            '<a target=\"_blank\" href=https://colab.research.google.com/notebooks/data_table.ipynb>data table notebook</a>'\n",
              "            + ' to learn more about interactive tables.';\n",
              "          element.innerHTML = '';\n",
              "          dataTable['output_type'] = 'display_data';\n",
              "          await google.colab.output.renderOutput(dataTable, element);\n",
              "          const docLink = document.createElement('div');\n",
              "          docLink.innerHTML = docLinkHtml;\n",
              "          element.appendChild(docLink);\n",
              "        }\n",
              "      </script>\n",
              "    </div>\n",
              "  </div>\n",
              "  "
            ]
          },
          "metadata": {},
          "execution_count": 16
        }
      ]
    },
    {
      "cell_type": "code",
      "source": [
        "df_select.info()"
      ],
      "metadata": {
        "id": "N4g1oueCKbFm",
        "outputId": "8eaaf291-93e5-44df-e8d0-ee083391b844",
        "colab": {
          "base_uri": "https://localhost:8080/"
        }
      },
      "execution_count": null,
      "outputs": [
        {
          "output_type": "stream",
          "name": "stdout",
          "text": [
            "<class 'pandas.core.frame.DataFrame'>\n",
            "RangeIndex: 5732 entries, 0 to 5731\n",
            "Data columns (total 11 columns):\n",
            " #   Column        Non-Null Count  Dtype \n",
            "---  ------        --------------  ----- \n",
            " 0   type_acc      5732 non-null   object\n",
            " 1   cnd_acc       5732 non-null   object\n",
            " 2   day_acc       5732 non-null   object\n",
            " 3   month_acc     5732 non-null   object\n",
            " 4   years_acc     5732 non-null   object\n",
            " 5   hours_acc     5732 non-null   int64 \n",
            " 6   minutes_acc   5732 non-null   int64 \n",
            " 7   scene_acc     5732 non-null   object\n",
            " 8   road_surface  5732 non-null   object\n",
            " 9   time_acc      5732 non-null   object\n",
            " 10  level_acc     5732 non-null   object\n",
            "dtypes: int64(2), object(9)\n",
            "memory usage: 492.7+ KB\n"
          ]
        }
      ]
    },
    {
      "cell_type": "code",
      "source": [
        "# แปลงข้อมูลให้เป็น int ตามความเหมาะสม\n",
        "df_select[['day_acc', 'month_acc', 'years_acc', 'time_acc']] = df_select[['day_acc', 'month_acc', 'years_acc', 'time_acc']].astype(str).astype(int)"
      ],
      "metadata": {
        "id": "j9jHMaeDVU6r"
      },
      "execution_count": null,
      "outputs": []
    },
    {
      "cell_type": "code",
      "source": [
        "from sklearn.preprocessing import LabelEncoder\n",
        "lab = LabelEncoder()\n",
        "\n",
        "# สร้างคอลัมน์สำหรับการ encode\n",
        "df_select['type_acc'] = lab.fit_transform(df_select['type_acc'])\n",
        "df_select['cnd_acc'] = lab.fit_transform(df_select['cnd_acc'])\n",
        "df_select['scene_acc'] = lab.fit_transform(df_select['scene_acc'])\n",
        "df_select['road_surface'] = lab.fit_transform(df_select['road_surface'])\n",
        "df_select"
      ],
      "metadata": {
        "colab": {
          "base_uri": "https://localhost:8080/",
          "height": 424
        },
        "id": "219WEl2FFUJs",
        "outputId": "1b974ed9-0140-4e38-9401-bc6c51891d7a"
      },
      "execution_count": null,
      "outputs": [
        {
          "output_type": "execute_result",
          "data": {
            "text/plain": [
              "      type_acc  cnd_acc  day_acc  month_acc  years_acc  scene_acc  \\\n",
              "0           12        1        1          1       2019         11   \n",
              "1           12        1        1          1       2019          1   \n",
              "2            9        1        1          1       2019          1   \n",
              "3            9        1        1          1       2019          1   \n",
              "4            7        1        1          1       2019          1   \n",
              "...        ...      ...      ...        ...        ...        ...   \n",
              "5727        12        1       29          9       2022          1   \n",
              "5728        12        1       30          9       2022          9   \n",
              "5729         7        1       30          9       2022          1   \n",
              "5730        12        1       30          9       2022          1   \n",
              "5731        12        1       30          9       2022          8   \n",
              "\n",
              "      road_surface  time_acc level_acc  \n",
              "0                1         0       INJ  \n",
              "1                1         1       ACC  \n",
              "2                1         2       ACC  \n",
              "3                1         4       ACC  \n",
              "4                1         4       INJ  \n",
              "...            ...       ...       ...  \n",
              "5727             1         5       ACC  \n",
              "5728             1         2       ACC  \n",
              "5729             1         4       ACC  \n",
              "5730             1         4       ACC  \n",
              "5731             1         5       ACC  \n",
              "\n",
              "[5732 rows x 9 columns]"
            ],
            "text/html": [
              "\n",
              "  <div id=\"df-3566776c-f88e-4cdd-a959-ce44ed2a8634\">\n",
              "    <div class=\"colab-df-container\">\n",
              "      <div>\n",
              "<style scoped>\n",
              "    .dataframe tbody tr th:only-of-type {\n",
              "        vertical-align: middle;\n",
              "    }\n",
              "\n",
              "    .dataframe tbody tr th {\n",
              "        vertical-align: top;\n",
              "    }\n",
              "\n",
              "    .dataframe thead th {\n",
              "        text-align: right;\n",
              "    }\n",
              "</style>\n",
              "<table border=\"1\" class=\"dataframe\">\n",
              "  <thead>\n",
              "    <tr style=\"text-align: right;\">\n",
              "      <th></th>\n",
              "      <th>type_acc</th>\n",
              "      <th>cnd_acc</th>\n",
              "      <th>day_acc</th>\n",
              "      <th>month_acc</th>\n",
              "      <th>years_acc</th>\n",
              "      <th>scene_acc</th>\n",
              "      <th>road_surface</th>\n",
              "      <th>time_acc</th>\n",
              "      <th>level_acc</th>\n",
              "    </tr>\n",
              "  </thead>\n",
              "  <tbody>\n",
              "    <tr>\n",
              "      <th>0</th>\n",
              "      <td>12</td>\n",
              "      <td>1</td>\n",
              "      <td>1</td>\n",
              "      <td>1</td>\n",
              "      <td>2019</td>\n",
              "      <td>11</td>\n",
              "      <td>1</td>\n",
              "      <td>0</td>\n",
              "      <td>INJ</td>\n",
              "    </tr>\n",
              "    <tr>\n",
              "      <th>1</th>\n",
              "      <td>12</td>\n",
              "      <td>1</td>\n",
              "      <td>1</td>\n",
              "      <td>1</td>\n",
              "      <td>2019</td>\n",
              "      <td>1</td>\n",
              "      <td>1</td>\n",
              "      <td>1</td>\n",
              "      <td>ACC</td>\n",
              "    </tr>\n",
              "    <tr>\n",
              "      <th>2</th>\n",
              "      <td>9</td>\n",
              "      <td>1</td>\n",
              "      <td>1</td>\n",
              "      <td>1</td>\n",
              "      <td>2019</td>\n",
              "      <td>1</td>\n",
              "      <td>1</td>\n",
              "      <td>2</td>\n",
              "      <td>ACC</td>\n",
              "    </tr>\n",
              "    <tr>\n",
              "      <th>3</th>\n",
              "      <td>9</td>\n",
              "      <td>1</td>\n",
              "      <td>1</td>\n",
              "      <td>1</td>\n",
              "      <td>2019</td>\n",
              "      <td>1</td>\n",
              "      <td>1</td>\n",
              "      <td>4</td>\n",
              "      <td>ACC</td>\n",
              "    </tr>\n",
              "    <tr>\n",
              "      <th>4</th>\n",
              "      <td>7</td>\n",
              "      <td>1</td>\n",
              "      <td>1</td>\n",
              "      <td>1</td>\n",
              "      <td>2019</td>\n",
              "      <td>1</td>\n",
              "      <td>1</td>\n",
              "      <td>4</td>\n",
              "      <td>INJ</td>\n",
              "    </tr>\n",
              "    <tr>\n",
              "      <th>...</th>\n",
              "      <td>...</td>\n",
              "      <td>...</td>\n",
              "      <td>...</td>\n",
              "      <td>...</td>\n",
              "      <td>...</td>\n",
              "      <td>...</td>\n",
              "      <td>...</td>\n",
              "      <td>...</td>\n",
              "      <td>...</td>\n",
              "    </tr>\n",
              "    <tr>\n",
              "      <th>5727</th>\n",
              "      <td>12</td>\n",
              "      <td>1</td>\n",
              "      <td>29</td>\n",
              "      <td>9</td>\n",
              "      <td>2022</td>\n",
              "      <td>1</td>\n",
              "      <td>1</td>\n",
              "      <td>5</td>\n",
              "      <td>ACC</td>\n",
              "    </tr>\n",
              "    <tr>\n",
              "      <th>5728</th>\n",
              "      <td>12</td>\n",
              "      <td>1</td>\n",
              "      <td>30</td>\n",
              "      <td>9</td>\n",
              "      <td>2022</td>\n",
              "      <td>9</td>\n",
              "      <td>1</td>\n",
              "      <td>2</td>\n",
              "      <td>ACC</td>\n",
              "    </tr>\n",
              "    <tr>\n",
              "      <th>5729</th>\n",
              "      <td>7</td>\n",
              "      <td>1</td>\n",
              "      <td>30</td>\n",
              "      <td>9</td>\n",
              "      <td>2022</td>\n",
              "      <td>1</td>\n",
              "      <td>1</td>\n",
              "      <td>4</td>\n",
              "      <td>ACC</td>\n",
              "    </tr>\n",
              "    <tr>\n",
              "      <th>5730</th>\n",
              "      <td>12</td>\n",
              "      <td>1</td>\n",
              "      <td>30</td>\n",
              "      <td>9</td>\n",
              "      <td>2022</td>\n",
              "      <td>1</td>\n",
              "      <td>1</td>\n",
              "      <td>4</td>\n",
              "      <td>ACC</td>\n",
              "    </tr>\n",
              "    <tr>\n",
              "      <th>5731</th>\n",
              "      <td>12</td>\n",
              "      <td>1</td>\n",
              "      <td>30</td>\n",
              "      <td>9</td>\n",
              "      <td>2022</td>\n",
              "      <td>8</td>\n",
              "      <td>1</td>\n",
              "      <td>5</td>\n",
              "      <td>ACC</td>\n",
              "    </tr>\n",
              "  </tbody>\n",
              "</table>\n",
              "<p>5732 rows × 9 columns</p>\n",
              "</div>\n",
              "      <button class=\"colab-df-convert\" onclick=\"convertToInteractive('df-3566776c-f88e-4cdd-a959-ce44ed2a8634')\"\n",
              "              title=\"Convert this dataframe to an interactive table.\"\n",
              "              style=\"display:none;\">\n",
              "        \n",
              "  <svg xmlns=\"http://www.w3.org/2000/svg\" height=\"24px\"viewBox=\"0 0 24 24\"\n",
              "       width=\"24px\">\n",
              "    <path d=\"M0 0h24v24H0V0z\" fill=\"none\"/>\n",
              "    <path d=\"M18.56 5.44l.94 2.06.94-2.06 2.06-.94-2.06-.94-.94-2.06-.94 2.06-2.06.94zm-11 1L8.5 8.5l.94-2.06 2.06-.94-2.06-.94L8.5 2.5l-.94 2.06-2.06.94zm10 10l.94 2.06.94-2.06 2.06-.94-2.06-.94-.94-2.06-.94 2.06-2.06.94z\"/><path d=\"M17.41 7.96l-1.37-1.37c-.4-.4-.92-.59-1.43-.59-.52 0-1.04.2-1.43.59L10.3 9.45l-7.72 7.72c-.78.78-.78 2.05 0 2.83L4 21.41c.39.39.9.59 1.41.59.51 0 1.02-.2 1.41-.59l7.78-7.78 2.81-2.81c.8-.78.8-2.07 0-2.86zM5.41 20L4 18.59l7.72-7.72 1.47 1.35L5.41 20z\"/>\n",
              "  </svg>\n",
              "      </button>\n",
              "      \n",
              "  <style>\n",
              "    .colab-df-container {\n",
              "      display:flex;\n",
              "      flex-wrap:wrap;\n",
              "      gap: 12px;\n",
              "    }\n",
              "\n",
              "    .colab-df-convert {\n",
              "      background-color: #E8F0FE;\n",
              "      border: none;\n",
              "      border-radius: 50%;\n",
              "      cursor: pointer;\n",
              "      display: none;\n",
              "      fill: #1967D2;\n",
              "      height: 32px;\n",
              "      padding: 0 0 0 0;\n",
              "      width: 32px;\n",
              "    }\n",
              "\n",
              "    .colab-df-convert:hover {\n",
              "      background-color: #E2EBFA;\n",
              "      box-shadow: 0px 1px 2px rgba(60, 64, 67, 0.3), 0px 1px 3px 1px rgba(60, 64, 67, 0.15);\n",
              "      fill: #174EA6;\n",
              "    }\n",
              "\n",
              "    [theme=dark] .colab-df-convert {\n",
              "      background-color: #3B4455;\n",
              "      fill: #D2E3FC;\n",
              "    }\n",
              "\n",
              "    [theme=dark] .colab-df-convert:hover {\n",
              "      background-color: #434B5C;\n",
              "      box-shadow: 0px 1px 3px 1px rgba(0, 0, 0, 0.15);\n",
              "      filter: drop-shadow(0px 1px 2px rgba(0, 0, 0, 0.3));\n",
              "      fill: #FFFFFF;\n",
              "    }\n",
              "  </style>\n",
              "\n",
              "      <script>\n",
              "        const buttonEl =\n",
              "          document.querySelector('#df-3566776c-f88e-4cdd-a959-ce44ed2a8634 button.colab-df-convert');\n",
              "        buttonEl.style.display =\n",
              "          google.colab.kernel.accessAllowed ? 'block' : 'none';\n",
              "\n",
              "        async function convertToInteractive(key) {\n",
              "          const element = document.querySelector('#df-3566776c-f88e-4cdd-a959-ce44ed2a8634');\n",
              "          const dataTable =\n",
              "            await google.colab.kernel.invokeFunction('convertToInteractive',\n",
              "                                                     [key], {});\n",
              "          if (!dataTable) return;\n",
              "\n",
              "          const docLinkHtml = 'Like what you see? Visit the ' +\n",
              "            '<a target=\"_blank\" href=https://colab.research.google.com/notebooks/data_table.ipynb>data table notebook</a>'\n",
              "            + ' to learn more about interactive tables.';\n",
              "          element.innerHTML = '';\n",
              "          dataTable['output_type'] = 'display_data';\n",
              "          await google.colab.output.renderOutput(dataTable, element);\n",
              "          const docLink = document.createElement('div');\n",
              "          docLink.innerHTML = docLinkHtml;\n",
              "          element.appendChild(docLink);\n",
              "        }\n",
              "      </script>\n",
              "    </div>\n",
              "  </div>\n",
              "  "
            ]
          },
          "metadata": {},
          "execution_count": 43
        }
      ]
    },
    {
      "cell_type": "code",
      "source": [
        "from sklearn.linear_model import LogisticRegression\n",
        "from sklearn.ensemble import RandomForestClassifier, GradientBoostingClassifier\n",
        "from sklearn.model_selection import train_test_split"
      ],
      "metadata": {
        "id": "E2-YZeX8FUEc"
      },
      "execution_count": null,
      "outputs": []
    },
    {
      "cell_type": "code",
      "source": [
        "# เตรียมชุดข้อมูลสำหรับทำ model\n",
        "x = df_select.drop(columns=[\"level_acc\"])\n",
        "y = df_select['level_acc']"
      ],
      "metadata": {
        "id": "Gkd8aYDsTJqO"
      },
      "execution_count": null,
      "outputs": []
    },
    {
      "cell_type": "code",
      "source": [
        "x_train, x_test, y_train, y_test = train_test_split( x, y, test_size=0.4, random_state=42)\n",
        "x_train.shape, y_train.shape, x_test.shape, y_test.shape"
      ],
      "metadata": {
        "colab": {
          "base_uri": "https://localhost:8080/"
        },
        "id": "T54PTjayTJnu",
        "outputId": "5faf2282-82f2-45e6-c552-15af780714d7"
      },
      "execution_count": null,
      "outputs": [
        {
          "output_type": "execute_result",
          "data": {
            "text/plain": [
              "((3439, 8), (3439,), (2293, 8), (2293,))"
            ]
          },
          "metadata": {},
          "execution_count": 47
        }
      ]
    },
    {
      "cell_type": "code",
      "source": [
        "# Logistic Regression\n",
        "lg = LogisticRegression()\n",
        "lg.fit(x_train, y_train)\n",
        "lg_pred_score = lg.score(x_test,y_test)"
      ],
      "metadata": {
        "colab": {
          "base_uri": "https://localhost:8080/"
        },
        "id": "Lf4tPNcwTeUY",
        "outputId": "f1de5fe6-5c1c-4462-fd4d-6b3de64de1f0"
      },
      "execution_count": null,
      "outputs": [
        {
          "output_type": "stream",
          "name": "stderr",
          "text": [
            "/usr/local/lib/python3.8/dist-packages/sklearn/linear_model/_logistic.py:814: ConvergenceWarning: lbfgs failed to converge (status=1):\n",
            "STOP: TOTAL NO. of ITERATIONS REACHED LIMIT.\n",
            "\n",
            "Increase the number of iterations (max_iter) or scale the data as shown in:\n",
            "    https://scikit-learn.org/stable/modules/preprocessing.html\n",
            "Please also refer to the documentation for alternative solver options:\n",
            "    https://scikit-learn.org/stable/modules/linear_model.html#logistic-regression\n",
            "  n_iter_i = _check_optimize_result(\n"
          ]
        }
      ]
    },
    {
      "cell_type": "code",
      "source": [
        "# Random Forest Classifier\n",
        "rf = RandomForestClassifier()\n",
        "rf.fit(x_train, y_train)\n",
        "rf_pred_score = rf.score(x_test,y_test)"
      ],
      "metadata": {
        "id": "jNjJ-ppdTeRw"
      },
      "execution_count": null,
      "outputs": []
    },
    {
      "cell_type": "code",
      "source": [
        "# Gradient Boosting Classifier\n",
        "gb = GradientBoostingClassifier()\n",
        "gb.fit(x_train, y_train)\n",
        "gb_pred_score = gb.score(x_test,y_test)"
      ],
      "metadata": {
        "id": "-vpQz4sYTeHi"
      },
      "execution_count": null,
      "outputs": []
    },
    {
      "cell_type": "code",
      "source": [
        "gb.feature_importances_"
      ],
      "metadata": {
        "colab": {
          "base_uri": "https://localhost:8080/"
        },
        "id": "4LMKusMATjMp",
        "outputId": "3ad3683f-0a15-4f63-87aa-a49aadffc6b1"
      },
      "execution_count": null,
      "outputs": [
        {
          "output_type": "execute_result",
          "data": {
            "text/plain": [
              "array([0.39390479, 0.05870752, 0.14875825, 0.13560335, 0.05848752,\n",
              "       0.044094  , 0.01285753, 0.14758705])"
            ]
          },
          "metadata": {},
          "execution_count": 51
        }
      ]
    },
    {
      "cell_type": "code",
      "source": [
        "gb.feature_importances_\n",
        "importances = gb.feature_importances_\n",
        "columns = x.columns\n",
        "i = 0\n",
        "\n",
        "while i<len(columns):\n",
        "    print(f\" The importance of feature '{columns[i]}' is {round(importances[i]*100, 2)}%.\")\n",
        "    i += 1"
      ],
      "metadata": {
        "colab": {
          "base_uri": "https://localhost:8080/"
        },
        "id": "zdwtRILOTjKR",
        "outputId": "3bac24e2-cd75-4034-fb42-7ad0573859e2"
      },
      "execution_count": null,
      "outputs": [
        {
          "output_type": "stream",
          "name": "stdout",
          "text": [
            " The importance of feature 'type_acc' is 39.39%.\n",
            " The importance of feature 'cnd_acc' is 5.87%.\n",
            " The importance of feature 'day_acc' is 14.88%.\n",
            " The importance of feature 'month_acc' is 13.56%.\n",
            " The importance of feature 'years_acc' is 5.85%.\n",
            " The importance of feature 'scene_acc' is 4.41%.\n",
            " The importance of feature 'road_surface' is 1.29%.\n",
            " The importance of feature 'time_acc' is 14.76%.\n"
          ]
        }
      ]
    },
    {
      "cell_type": "code",
      "source": [
        "from sklearn.svm import SVC\n",
        "svc = SVC()\n",
        "svc.fit(x_train, y_train)\n",
        "svc_pred_score = svc.score(x_test,y_test)"
      ],
      "metadata": {
        "id": "DaNJ8Q45TnA5"
      },
      "execution_count": null,
      "outputs": []
    },
    {
      "cell_type": "code",
      "source": [
        "df_select = pd.DataFrame(dict(model=['Logistic Regression', \n",
        "                              'Random Forest',\n",
        "                              'Gradient Boosting',\n",
        "                              'SVM'],accuracy=[lg_pred_score, rf_pred_score,\n",
        "                                               gb_pred_score, svc_pred_score]))"
      ],
      "metadata": {
        "id": "N-yexsQIVv7u"
      },
      "execution_count": null,
      "outputs": []
    },
    {
      "cell_type": "code",
      "source": [
        "df_select"
      ],
      "metadata": {
        "colab": {
          "base_uri": "https://localhost:8080/",
          "height": 175
        },
        "id": "xI3OGvITTm75",
        "outputId": "c966c767-64d7-4b2c-810f-f413fe515905"
      },
      "execution_count": null,
      "outputs": [
        {
          "output_type": "execute_result",
          "data": {
            "text/plain": [
              "                 model  accuracy\n",
              "0  Logistic Regression  0.668993\n",
              "1        Random Forest  0.647623\n",
              "2    Gradient Boosting  0.676843\n",
              "3                  SVM  0.654601"
            ],
            "text/html": [
              "\n",
              "  <div id=\"df-0cfd50be-e109-4688-9396-6f59477f535b\">\n",
              "    <div class=\"colab-df-container\">\n",
              "      <div>\n",
              "<style scoped>\n",
              "    .dataframe tbody tr th:only-of-type {\n",
              "        vertical-align: middle;\n",
              "    }\n",
              "\n",
              "    .dataframe tbody tr th {\n",
              "        vertical-align: top;\n",
              "    }\n",
              "\n",
              "    .dataframe thead th {\n",
              "        text-align: right;\n",
              "    }\n",
              "</style>\n",
              "<table border=\"1\" class=\"dataframe\">\n",
              "  <thead>\n",
              "    <tr style=\"text-align: right;\">\n",
              "      <th></th>\n",
              "      <th>model</th>\n",
              "      <th>accuracy</th>\n",
              "    </tr>\n",
              "  </thead>\n",
              "  <tbody>\n",
              "    <tr>\n",
              "      <th>0</th>\n",
              "      <td>Logistic Regression</td>\n",
              "      <td>0.668993</td>\n",
              "    </tr>\n",
              "    <tr>\n",
              "      <th>1</th>\n",
              "      <td>Random Forest</td>\n",
              "      <td>0.647623</td>\n",
              "    </tr>\n",
              "    <tr>\n",
              "      <th>2</th>\n",
              "      <td>Gradient Boosting</td>\n",
              "      <td>0.676843</td>\n",
              "    </tr>\n",
              "    <tr>\n",
              "      <th>3</th>\n",
              "      <td>SVM</td>\n",
              "      <td>0.654601</td>\n",
              "    </tr>\n",
              "  </tbody>\n",
              "</table>\n",
              "</div>\n",
              "      <button class=\"colab-df-convert\" onclick=\"convertToInteractive('df-0cfd50be-e109-4688-9396-6f59477f535b')\"\n",
              "              title=\"Convert this dataframe to an interactive table.\"\n",
              "              style=\"display:none;\">\n",
              "        \n",
              "  <svg xmlns=\"http://www.w3.org/2000/svg\" height=\"24px\"viewBox=\"0 0 24 24\"\n",
              "       width=\"24px\">\n",
              "    <path d=\"M0 0h24v24H0V0z\" fill=\"none\"/>\n",
              "    <path d=\"M18.56 5.44l.94 2.06.94-2.06 2.06-.94-2.06-.94-.94-2.06-.94 2.06-2.06.94zm-11 1L8.5 8.5l.94-2.06 2.06-.94-2.06-.94L8.5 2.5l-.94 2.06-2.06.94zm10 10l.94 2.06.94-2.06 2.06-.94-2.06-.94-.94-2.06-.94 2.06-2.06.94z\"/><path d=\"M17.41 7.96l-1.37-1.37c-.4-.4-.92-.59-1.43-.59-.52 0-1.04.2-1.43.59L10.3 9.45l-7.72 7.72c-.78.78-.78 2.05 0 2.83L4 21.41c.39.39.9.59 1.41.59.51 0 1.02-.2 1.41-.59l7.78-7.78 2.81-2.81c.8-.78.8-2.07 0-2.86zM5.41 20L4 18.59l7.72-7.72 1.47 1.35L5.41 20z\"/>\n",
              "  </svg>\n",
              "      </button>\n",
              "      \n",
              "  <style>\n",
              "    .colab-df-container {\n",
              "      display:flex;\n",
              "      flex-wrap:wrap;\n",
              "      gap: 12px;\n",
              "    }\n",
              "\n",
              "    .colab-df-convert {\n",
              "      background-color: #E8F0FE;\n",
              "      border: none;\n",
              "      border-radius: 50%;\n",
              "      cursor: pointer;\n",
              "      display: none;\n",
              "      fill: #1967D2;\n",
              "      height: 32px;\n",
              "      padding: 0 0 0 0;\n",
              "      width: 32px;\n",
              "    }\n",
              "\n",
              "    .colab-df-convert:hover {\n",
              "      background-color: #E2EBFA;\n",
              "      box-shadow: 0px 1px 2px rgba(60, 64, 67, 0.3), 0px 1px 3px 1px rgba(60, 64, 67, 0.15);\n",
              "      fill: #174EA6;\n",
              "    }\n",
              "\n",
              "    [theme=dark] .colab-df-convert {\n",
              "      background-color: #3B4455;\n",
              "      fill: #D2E3FC;\n",
              "    }\n",
              "\n",
              "    [theme=dark] .colab-df-convert:hover {\n",
              "      background-color: #434B5C;\n",
              "      box-shadow: 0px 1px 3px 1px rgba(0, 0, 0, 0.15);\n",
              "      filter: drop-shadow(0px 1px 2px rgba(0, 0, 0, 0.3));\n",
              "      fill: #FFFFFF;\n",
              "    }\n",
              "  </style>\n",
              "\n",
              "      <script>\n",
              "        const buttonEl =\n",
              "          document.querySelector('#df-0cfd50be-e109-4688-9396-6f59477f535b button.colab-df-convert');\n",
              "        buttonEl.style.display =\n",
              "          google.colab.kernel.accessAllowed ? 'block' : 'none';\n",
              "\n",
              "        async function convertToInteractive(key) {\n",
              "          const element = document.querySelector('#df-0cfd50be-e109-4688-9396-6f59477f535b');\n",
              "          const dataTable =\n",
              "            await google.colab.kernel.invokeFunction('convertToInteractive',\n",
              "                                                     [key], {});\n",
              "          if (!dataTable) return;\n",
              "\n",
              "          const docLinkHtml = 'Like what you see? Visit the ' +\n",
              "            '<a target=\"_blank\" href=https://colab.research.google.com/notebooks/data_table.ipynb>data table notebook</a>'\n",
              "            + ' to learn more about interactive tables.';\n",
              "          element.innerHTML = '';\n",
              "          dataTable['output_type'] = 'display_data';\n",
              "          await google.colab.output.renderOutput(dataTable, element);\n",
              "          const docLink = document.createElement('div');\n",
              "          docLink.innerHTML = docLinkHtml;\n",
              "          element.appendChild(docLink);\n",
              "        }\n",
              "      </script>\n",
              "    </div>\n",
              "  </div>\n",
              "  "
            ]
          },
          "metadata": {},
          "execution_count": 55
        }
      ]
    },
    {
      "cell_type": "code",
      "source": [
        "df_select.plot(kind='bar',x='model',y='accuracy',title='Model Accuracy',legend=False,\n",
        "        color=['#1F77B4', '#FF7F0E', '#2CA02C'])\n",
        "plt.ylim(0.5,1);"
      ],
      "metadata": {
        "colab": {
          "base_uri": "https://localhost:8080/",
          "height": 368
        },
        "id": "4eZD-7GZTtrB",
        "outputId": "529095f5-ed71-4017-8546-84494edc6e8b"
      },
      "execution_count": null,
      "outputs": [
        {
          "output_type": "display_data",
          "data": {
            "text/plain": [
              "<Figure size 432x288 with 1 Axes>"
            ],
            "image/png": "[encoded data removed]"
          },
          "metadata": {
            "needs_background": "light"
          }
        }
      ]
    },
    {
      "cell_type": "markdown",
      "source": [
        "--------------------------"
      ],
      "metadata": {
        "id": "D-sZiN9TW6FO"
      }
    },
    {
      "cell_type": "markdown",
      "source": [
        "# Gradient Boosting Classifier"
      ],
      "metadata": {
        "id": "2ef8mabdW83G"
      }
    },
    {
      "cell_type": "code",
      "source": [
        "from sklearn.ensemble import RandomForestClassifier, GradientBoostingClassifier\n",
        "from sklearn.model_selection import train_test_split"
      ],
      "metadata": {
        "id": "JsakuKZIW7EF"
      },
      "execution_count": null,
      "outputs": []
    },
    {
      "cell_type": "code",
      "source": [
        "# copy df to df_select\n",
        "df_model = df.copy()\n",
        "\n",
        "# ลบคอลัมน์ที่ไม่ใช้งาน\n",
        "df_model.drop(columns=[\"route_acc\"], inplace=True, axis=1)"
      ],
      "metadata": {
        "id": "X_NhWPQza_xH"
      },
      "execution_count": null,
      "outputs": []
    },
    {
      "cell_type": "code",
      "source": [
        "df_model"
      ],
      "metadata": {
        "colab": {
          "base_uri": "https://localhost:8080/",
          "height": 424
        },
        "id": "GCUnPqj_gwf8",
        "outputId": "1fb22879-d34a-4804-8fce-6eb97750bdd3"
      },
      "execution_count": null,
      "outputs": [
        {
          "output_type": "execute_result",
          "data": {
            "text/plain": [
              "                                   type_acc cnd_acc day_acc month_acc  \\\n",
              "0                                     อื่นๆ    Fair       1         1   \n",
              "1                                     อื่นๆ    Fair       1         1   \n",
              "2     รถยนต์นั่งส่วนบุคคล/รถยนต์นั่งสาธารณะ    Fair       1         1   \n",
              "3     รถยนต์นั่งส่วนบุคคล/รถยนต์นั่งสาธารณะ    Fair       1         1   \n",
              "4                      รถปิคอัพบรรทุก 4 ล้อ    Fair       1         1   \n",
              "...                                     ...     ...     ...       ...   \n",
              "5727                                  อื่นๆ    Fair      29         9   \n",
              "5728                                  อื่นๆ    Fair      30         9   \n",
              "5729                   รถปิคอัพบรรทุก 4 ล้อ    Fair      30         9   \n",
              "5730                                  อื่นๆ    Fair      30         9   \n",
              "5731                                  อื่นๆ    Fair      30         9   \n",
              "\n",
              "     years_acc              scene_acc     road_surface time_acc level_acc  \n",
              "0         2019                  อื่นๆ  ไม่มีความลาดชัน        0       INJ  \n",
              "1         2019                 ทางตรง  ไม่มีความลาดชัน        1       ACC  \n",
              "2         2019                 ทางตรง  ไม่มีความลาดชัน        2       ACC  \n",
              "3         2019                 ทางตรง  ไม่มีความลาดชัน        4       ACC  \n",
              "4         2019                 ทางตรง  ไม่มีความลาดชัน        4       INJ  \n",
              "...        ...                    ...              ...      ...       ...  \n",
              "5727      2022                 ทางตรง  ไม่มีความลาดชัน        5       ACC  \n",
              "5728      2022           ทางโค้งกว้าง  ไม่มีความลาดชัน        2       ACC  \n",
              "5729      2022                 ทางตรง  ไม่มีความลาดชัน        4       ACC  \n",
              "5730      2022                 ทางตรง  ไม่มีความลาดชัน        4       ACC  \n",
              "5731      2022  ทางแยกต่างระดับ/Ramps  ไม่มีความลาดชัน        5       ACC  \n",
              "\n",
              "[5732 rows x 9 columns]"
            ],
            "text/html": [
              "\n",
              "  <div id=\"df-c2ee7085-b0a4-42e7-93e0-fb6b79432be1\">\n",
              "    <div class=\"colab-df-container\">\n",
              "      <div>\n",
              "<style scoped>\n",
              "    .dataframe tbody tr th:only-of-type {\n",
              "        vertical-align: middle;\n",
              "    }\n",
              "\n",
              "    .dataframe tbody tr th {\n",
              "        vertical-align: top;\n",
              "    }\n",
              "\n",
              "    .dataframe thead th {\n",
              "        text-align: right;\n",
              "    }\n",
              "</style>\n",
              "<table border=\"1\" class=\"dataframe\">\n",
              "  <thead>\n",
              "    <tr style=\"text-align: right;\">\n",
              "      <th></th>\n",
              "      <th>type_acc</th>\n",
              "      <th>cnd_acc</th>\n",
              "      <th>day_acc</th>\n",
              "      <th>month_acc</th>\n",
              "      <th>years_acc</th>\n",
              "      <th>scene_acc</th>\n",
              "      <th>road_surface</th>\n",
              "      <th>time_acc</th>\n",
              "      <th>level_acc</th>\n",
              "    </tr>\n",
              "  </thead>\n",
              "  <tbody>\n",
              "    <tr>\n",
              "      <th>0</th>\n",
              "      <td>อื่นๆ</td>\n",
              "      <td>Fair</td>\n",
              "      <td>1</td>\n",
              "      <td>1</td>\n",
              "      <td>2019</td>\n",
              "      <td>อื่นๆ</td>\n",
              "      <td>ไม่มีความลาดชัน</td>\n",
              "      <td>0</td>\n",
              "      <td>INJ</td>\n",
              "    </tr>\n",
              "    <tr>\n",
              "      <th>1</th>\n",
              "      <td>อื่นๆ</td>\n",
              "      <td>Fair</td>\n",
              "      <td>1</td>\n",
              "      <td>1</td>\n",
              "      <td>2019</td>\n",
              "      <td>ทางตรง</td>\n",
              "      <td>ไม่มีความลาดชัน</td>\n",
              "      <td>1</td>\n",
              "      <td>ACC</td>\n",
              "    </tr>\n",
              "    <tr>\n",
              "      <th>2</th>\n",
              "      <td>รถยนต์นั่งส่วนบุคคล/รถยนต์นั่งสาธารณะ</td>\n",
              "      <td>Fair</td>\n",
              "      <td>1</td>\n",
              "      <td>1</td>\n",
              "      <td>2019</td>\n",
              "      <td>ทางตรง</td>\n",
              "      <td>ไม่มีความลาดชัน</td>\n",
              "      <td>2</td>\n",
              "      <td>ACC</td>\n",
              "    </tr>\n",
              "    <tr>\n",
              "      <th>3</th>\n",
              "      <td>รถยนต์นั่งส่วนบุคคล/รถยนต์นั่งสาธารณะ</td>\n",
              "      <td>Fair</td>\n",
              "      <td>1</td>\n",
              "      <td>1</td>\n",
              "      <td>2019</td>\n",
              "      <td>ทางตรง</td>\n",
              "      <td>ไม่มีความลาดชัน</td>\n",
              "      <td>4</td>\n",
              "      <td>ACC</td>\n",
              "    </tr>\n",
              "    <tr>\n",
              "      <th>4</th>\n",
              "      <td>รถปิคอัพบรรทุก 4 ล้อ</td>\n",
              "      <td>Fair</td>\n",
              "      <td>1</td>\n",
              "      <td>1</td>\n",
              "      <td>2019</td>\n",
              "      <td>ทางตรง</td>\n",
              "      <td>ไม่มีความลาดชัน</td>\n",
              "      <td>4</td>\n",
              "      <td>INJ</td>\n",
              "    </tr>\n",
              "    <tr>\n",
              "      <th>...</th>\n",
              "      <td>...</td>\n",
              "      <td>...</td>\n",
              "      <td>...</td>\n",
              "      <td>...</td>\n",
              "      <td>...</td>\n",
              "      <td>...</td>\n",
              "      <td>...</td>\n",
              "      <td>...</td>\n",
              "      <td>...</td>\n",
              "    </tr>\n",
              "    <tr>\n",
              "      <th>5727</th>\n",
              "      <td>อื่นๆ</td>\n",
              "      <td>Fair</td>\n",
              "      <td>29</td>\n",
              "      <td>9</td>\n",
              "      <td>2022</td>\n",
              "      <td>ทางตรง</td>\n",
              "      <td>ไม่มีความลาดชัน</td>\n",
              "      <td>5</td>\n",
              "      <td>ACC</td>\n",
              "    </tr>\n",
              "    <tr>\n",
              "      <th>5728</th>\n",
              "      <td>อื่นๆ</td>\n",
              "      <td>Fair</td>\n",
              "      <td>30</td>\n",
              "      <td>9</td>\n",
              "      <td>2022</td>\n",
              "      <td>ทางโค้งกว้าง</td>\n",
              "      <td>ไม่มีความลาดชัน</td>\n",
              "      <td>2</td>\n",
              "      <td>ACC</td>\n",
              "    </tr>\n",
              "    <tr>\n",
              "      <th>5729</th>\n",
              "      <td>รถปิคอัพบรรทุก 4 ล้อ</td>\n",
              "      <td>Fair</td>\n",
              "      <td>30</td>\n",
              "      <td>9</td>\n",
              "      <td>2022</td>\n",
              "      <td>ทางตรง</td>\n",
              "      <td>ไม่มีความลาดชัน</td>\n",
              "      <td>4</td>\n",
              "      <td>ACC</td>\n",
              "    </tr>\n",
              "    <tr>\n",
              "      <th>5730</th>\n",
              "      <td>อื่นๆ</td>\n",
              "      <td>Fair</td>\n",
              "      <td>30</td>\n",
              "      <td>9</td>\n",
              "      <td>2022</td>\n",
              "      <td>ทางตรง</td>\n",
              "      <td>ไม่มีความลาดชัน</td>\n",
              "      <td>4</td>\n",
              "      <td>ACC</td>\n",
              "    </tr>\n",
              "    <tr>\n",
              "      <th>5731</th>\n",
              "      <td>อื่นๆ</td>\n",
              "      <td>Fair</td>\n",
              "      <td>30</td>\n",
              "      <td>9</td>\n",
              "      <td>2022</td>\n",
              "      <td>ทางแยกต่างระดับ/Ramps</td>\n",
              "      <td>ไม่มีความลาดชัน</td>\n",
              "      <td>5</td>\n",
              "      <td>ACC</td>\n",
              "    </tr>\n",
              "  </tbody>\n",
              "</table>\n",
              "<p>5732 rows × 9 columns</p>\n",
              "</div>\n",
              "      <button class=\"colab-df-convert\" onclick=\"convertToInteractive('df-c2ee7085-b0a4-42e7-93e0-fb6b79432be1')\"\n",
              "              title=\"Convert this dataframe to an interactive table.\"\n",
              "              style=\"display:none;\">\n",
              "        \n",
              "  <svg xmlns=\"http://www.w3.org/2000/svg\" height=\"24px\"viewBox=\"0 0 24 24\"\n",
              "       width=\"24px\">\n",
              "    <path d=\"M0 0h24v24H0V0z\" fill=\"none\"/>\n",
              "    <path d=\"M18.56 5.44l.94 2.06.94-2.06 2.06-.94-2.06-.94-.94-2.06-.94 2.06-2.06.94zm-11 1L8.5 8.5l.94-2.06 2.06-.94-2.06-.94L8.5 2.5l-.94 2.06-2.06.94zm10 10l.94 2.06.94-2.06 2.06-.94-2.06-.94-.94-2.06-.94 2.06-2.06.94z\"/><path d=\"M17.41 7.96l-1.37-1.37c-.4-.4-.92-.59-1.43-.59-.52 0-1.04.2-1.43.59L10.3 9.45l-7.72 7.72c-.78.78-.78 2.05 0 2.83L4 21.41c.39.39.9.59 1.41.59.51 0 1.02-.2 1.41-.59l7.78-7.78 2.81-2.81c.8-.78.8-2.07 0-2.86zM5.41 20L4 18.59l7.72-7.72 1.47 1.35L5.41 20z\"/>\n",
              "  </svg>\n",
              "      </button>\n",
              "      \n",
              "  <style>\n",
              "    .colab-df-container {\n",
              "      display:flex;\n",
              "      flex-wrap:wrap;\n",
              "      gap: 12px;\n",
              "    }\n",
              "\n",
              "    .colab-df-convert {\n",
              "      background-color: #E8F0FE;\n",
              "      border: none;\n",
              "      border-radius: 50%;\n",
              "      cursor: pointer;\n",
              "      display: none;\n",
              "      fill: #1967D2;\n",
              "      height: 32px;\n",
              "      padding: 0 0 0 0;\n",
              "      width: 32px;\n",
              "    }\n",
              "\n",
              "    .colab-df-convert:hover {\n",
              "      background-color: #E2EBFA;\n",
              "      box-shadow: 0px 1px 2px rgba(60, 64, 67, 0.3), 0px 1px 3px 1px rgba(60, 64, 67, 0.15);\n",
              "      fill: #174EA6;\n",
              "    }\n",
              "\n",
              "    [theme=dark] .colab-df-convert {\n",
              "      background-color: #3B4455;\n",
              "      fill: #D2E3FC;\n",
              "    }\n",
              "\n",
              "    [theme=dark] .colab-df-convert:hover {\n",
              "      background-color: #434B5C;\n",
              "      box-shadow: 0px 1px 3px 1px rgba(0, 0, 0, 0.15);\n",
              "      filter: drop-shadow(0px 1px 2px rgba(0, 0, 0, 0.3));\n",
              "      fill: #FFFFFF;\n",
              "    }\n",
              "  </style>\n",
              "\n",
              "      <script>\n",
              "        const buttonEl =\n",
              "          document.querySelector('#df-c2ee7085-b0a4-42e7-93e0-fb6b79432be1 button.colab-df-convert');\n",
              "        buttonEl.style.display =\n",
              "          google.colab.kernel.accessAllowed ? 'block' : 'none';\n",
              "\n",
              "        async function convertToInteractive(key) {\n",
              "          const element = document.querySelector('#df-c2ee7085-b0a4-42e7-93e0-fb6b79432be1');\n",
              "          const dataTable =\n",
              "            await google.colab.kernel.invokeFunction('convertToInteractive',\n",
              "                                                     [key], {});\n",
              "          if (!dataTable) return;\n",
              "\n",
              "          const docLinkHtml = 'Like what you see? Visit the ' +\n",
              "            '<a target=\"_blank\" href=https://colab.research.google.com/notebooks/data_table.ipynb>data table notebook</a>'\n",
              "            + ' to learn more about interactive tables.';\n",
              "          element.innerHTML = '';\n",
              "          dataTable['output_type'] = 'display_data';\n",
              "          await google.colab.output.renderOutput(dataTable, element);\n",
              "          const docLink = document.createElement('div');\n",
              "          docLink.innerHTML = docLinkHtml;\n",
              "          element.appendChild(docLink);\n",
              "        }\n",
              "      </script>\n",
              "    </div>\n",
              "  </div>\n",
              "  "
            ]
          },
          "metadata": {},
          "execution_count": 59
        }
      ]
    },
    {
      "cell_type": "code",
      "source": [
        "from sklearn.preprocessing import LabelEncoder\n",
        "lab = LabelEncoder()\n",
        "\n",
        "# สร้างคอลัมน์สำหรับการ encode\n",
        "df_model['type_acc'] = lab.fit_transform(df_model['type_acc'])\n",
        "df_model['cnd_acc'] = lab.fit_transform(df_model['cnd_acc'])\n",
        "df_model['scene_acc'] = lab.fit_transform(df_model['scene_acc'])\n",
        "df_model['road_surface'] = lab.fit_transform(df_model['road_surface'])"
      ],
      "metadata": {
        "id": "D_tXzh0Va_re"
      },
      "execution_count": null,
      "outputs": []
    },
    {
      "cell_type": "code",
      "source": [
        "# เตรียมชุดข้อมูลสำหรับทำ model\n",
        "X= df_model.drop(columns=[\"level_acc\"])\n",
        "Y = df_model['level_acc']"
      ],
      "metadata": {
        "id": "BqhhpY2ihLXZ"
      },
      "execution_count": null,
      "outputs": []
    },
    {
      "cell_type": "code",
      "source": [
        "Y.value_counts()"
      ],
      "metadata": {
        "colab": {
          "base_uri": "https://localhost:8080/"
        },
        "id": "tjiSshv9Y0l8",
        "outputId": "56614291-e76f-4c21-9835-542b5ff5bf6a"
      },
      "execution_count": null,
      "outputs": [
        {
          "output_type": "execute_result",
          "data": {
            "text/plain": [
              "ACC    3884\n",
              "INJ    1744\n",
              "DIE     104\n",
              "Name: level_acc, dtype: int64"
            ]
          },
          "metadata": {},
          "execution_count": 62
        }
      ]
    },
    {
      "cell_type": "code",
      "source": [
        "# plot จำนวนระดับความรุนแรง\n",
        "Y.value_counts().plot.pie(autopct='%.2f')"
      ],
      "metadata": {
        "colab": {
          "base_uri": "https://localhost:8080/",
          "height": 265
        },
        "id": "V3-i6iOuZCJc",
        "outputId": "e8623cd2-5833-4515-ff96-bee25c242924"
      },
      "execution_count": null,
      "outputs": [
        {
          "output_type": "execute_result",
          "data": {
            "text/plain": [
              "<matplotlib.axes._subplots.AxesSubplot at 0x7fc686f0d790>"
            ]
          },
          "metadata": {},
          "execution_count": 63
        },
        {
          "output_type": "display_data",
          "data": {
            "text/plain": [
              "<Figure size 432x288 with 1 Axes>"
            ],
            "image/png": "[encoded data removed]"
          },
          "metadata": {}
        }
      ]
    },
    {
      "cell_type": "code",
      "source": [
        "from imblearn.over_sampling import SMOTE\n",
        "from collections import Counter\n",
        "\n",
        "oversample = SMOTE()\n",
        "X, Y = oversample.fit_resample(X, Y)\n",
        "\n",
        "counter = Counter(Y)\n",
        "counter"
      ],
      "metadata": {
        "id": "jIdexPCuchp5",
        "colab": {
          "base_uri": "https://localhost:8080/"
        },
        "outputId": "052755ac-259e-47b9-e90a-ff60defdeb7c"
      },
      "execution_count": null,
      "outputs": [
        {
          "output_type": "execute_result",
          "data": {
            "text/plain": [
              "Counter({'INJ': 3884, 'ACC': 3884, 'DIE': 3884})"
            ]
          },
          "metadata": {},
          "execution_count": 64
        }
      ]
    },
    {
      "cell_type": "code",
      "source": [
        "Y.value_counts()"
      ],
      "metadata": {
        "colab": {
          "base_uri": "https://localhost:8080/"
        },
        "id": "B2HPZn0lSk38",
        "outputId": "e69a55d5-24fa-40eb-aafb-675fab8fed9c"
      },
      "execution_count": null,
      "outputs": [
        {
          "output_type": "execute_result",
          "data": {
            "text/plain": [
              "INJ    3884\n",
              "ACC    3884\n",
              "DIE    3884\n",
              "Name: level_acc, dtype: int64"
            ]
          },
          "metadata": {},
          "execution_count": 65
        }
      ]
    },
    {
      "cell_type": "code",
      "source": [
        "X_train, X_test, Y_train, Y_test = train_test_split( X, Y, test_size=0.4, random_state=42)\n",
        "X_train.shape, Y_train.shape, X_test.shape, Y_test.shape"
      ],
      "metadata": {
        "colab": {
          "base_uri": "https://localhost:8080/"
        },
        "id": "Pxckuntva4WK",
        "outputId": "8289014a-ac08-4c4e-ea50-8f6499125611"
      },
      "execution_count": null,
      "outputs": [
        {
          "output_type": "execute_result",
          "data": {
            "text/plain": [
              "((6991, 8), (6991,), (4661, 8), (4661,))"
            ]
          },
          "metadata": {},
          "execution_count": 66
        }
      ]
    },
    {
      "cell_type": "code",
      "source": [
        "from sklearn.ensemble import GradientBoostingClassifier\n",
        "from sklearn.metrics import classification_report, confusion_matrix, roc_curve, auc"
      ],
      "metadata": {
        "id": "dv1yFeifa4UB"
      },
      "execution_count": null,
      "outputs": []
    },
    {
      "cell_type": "code",
      "source": [
        "learning_rates = [0.05, 0.1, 0.25, 0.5, 0.75, 1]\n",
        "for learning_rate in learning_rates:\n",
        "    gb = GradientBoostingClassifier(n_estimators=20, learning_rate = learning_rate, max_features=2, max_depth = 2, random_state = 0)\n",
        "    gb.fit(X_train, Y_train)\n",
        "    print(\"Learning rate: \", learning_rate)\n",
        "    print(\"Accuracy score (training): {0:.3f}\".format(gb.score(X_train, Y_train)))\n",
        "    print(\"Accuracy score (test): {0:.3f}\".format(gb.score(X_test, Y_test)))\n",
        "    print()"
      ],
      "metadata": {
        "colab": {
          "base_uri": "https://localhost:8080/"
        },
        "id": "25pZmvtWa4Rv",
        "outputId": "ffe7d6f2-37ab-4e74-c9ff-eb2554098f43"
      },
      "execution_count": null,
      "outputs": [
        {
          "output_type": "stream",
          "name": "stdout",
          "text": [
            "Learning rate:  0.05\n",
            "Accuracy score (training): 0.553\n",
            "Accuracy score (test): 0.556\n",
            "\n",
            "Learning rate:  0.1\n",
            "Accuracy score (training): 0.569\n",
            "Accuracy score (test): 0.573\n",
            "\n",
            "Learning rate:  0.25\n",
            "Accuracy score (training): 0.625\n",
            "Accuracy score (test): 0.615\n",
            "\n",
            "Learning rate:  0.5\n",
            "Accuracy score (training): 0.658\n",
            "Accuracy score (test): 0.654\n",
            "\n",
            "Learning rate:  0.75\n",
            "Accuracy score (training): 0.694\n",
            "Accuracy score (test): 0.682\n",
            "\n",
            "Learning rate:  1\n",
            "Accuracy score (training): 0.711\n",
            "Accuracy score (test): 0.700\n",
            "\n"
          ]
        }
      ]
    },
    {
      "cell_type": "code",
      "source": [
        "# Learning rate = 0.5\n",
        "\n",
        "gb = GradientBoostingClassifier(n_estimators=20, learning_rate = 1, max_features=2, max_depth = 2, random_state = 0)\n",
        "gb.fit(X_train, Y_train)\n",
        "predictions = gb.predict(X_test)\n",
        "\n",
        "print(\"Confusion Matrix:\")\n",
        "print(confusion_matrix(Y_test, predictions))\n",
        "print()\n",
        "print(\"Classification Report\")\n",
        "print(classification_report(Y_test, predictions))"
      ],
      "metadata": {
        "colab": {
          "base_uri": "https://localhost:8080/"
        },
        "id": "uF4Dx5Ica4MJ",
        "outputId": "be046f2d-1880-4714-a7f4-8846ddd6d711"
      },
      "execution_count": null,
      "outputs": [
        {
          "output_type": "stream",
          "name": "stdout",
          "text": [
            "Confusion Matrix:\n",
            "[[1212   61  303]\n",
            " [  41 1353  144]\n",
            " [ 549  302  696]]\n",
            "\n",
            "Classification Report\n",
            "              precision    recall  f1-score   support\n",
            "\n",
            "         ACC       0.67      0.77      0.72      1576\n",
            "         DIE       0.79      0.88      0.83      1538\n",
            "         INJ       0.61      0.45      0.52      1547\n",
            "\n",
            "    accuracy                           0.70      4661\n",
            "   macro avg       0.69      0.70      0.69      4661\n",
            "weighted avg       0.69      0.70      0.69      4661\n",
            "\n"
          ]
        }
      ]
    },
    {
      "cell_type": "code",
      "source": [
        "gb.feature_importances_\n",
        "importances = gb.feature_importances_\n",
        "columns = x.columns\n",
        "i = 0\n",
        "\n",
        "while i<len(columns):\n",
        "    print(f\" The importance of feature '{columns[i]}' is {round(importances[i]*100, 2)}%.\")\n",
        "    i += 1"
      ],
      "metadata": {
        "colab": {
          "base_uri": "https://localhost:8080/"
        },
        "id": "arRI6vvAn-QF",
        "outputId": "aa2e6774-a552-44a1-c745-c039181f28a2"
      },
      "execution_count": null,
      "outputs": [
        {
          "output_type": "stream",
          "name": "stdout",
          "text": [
            " The importance of feature 'type_acc' is 27.23%.\n",
            " The importance of feature 'cnd_acc' is 4.97%.\n",
            " The importance of feature 'day_acc' is 5.54%.\n",
            " The importance of feature 'month_acc' is 5.12%.\n",
            " The importance of feature 'years_acc' is 22.25%.\n",
            " The importance of feature 'scene_acc' is 2.91%.\n",
            " The importance of feature 'road_surface' is 6.99%.\n",
            " The importance of feature 'time_acc' is 25.0%.\n"
          ]
        }
      ]
    },
    {
      "cell_type": "markdown",
      "source": [
        "-------------------------------"
      ],
      "metadata": {
        "id": "eCbL3KcvU2vD"
      }
    },
    {
      "cell_type": "markdown",
      "source": [
        "# Accident prediction"
      ],
      "metadata": {
        "id": "bgOqjrEjU7Iz"
      }
    },
    {
      "cell_type": "code",
      "source": [
        "def input_data(type_acc,climate_acc,day_acc,month_acc,years_acc,scene_acc,road_surface,time_acc):\n",
        "  df1 = pd.DataFrame({'type_acc': [type_acc],\n",
        "                   'cnd_acc': [cnd_acc],\n",
        "                   'day_acc': [day_acc],\n",
        "                   'month_acc':[month_acc],\n",
        "                   'years_acc': [years_acc],\n",
        "                   'scene_acc': [scene_acc],\n",
        "                   'road_surface': [road_surface],\n",
        "                   'time_acc': [time_acc]})\n",
        "  return df1"
      ],
      "metadata": {
        "id": "jB0TlzBT28sT"
      },
      "execution_count": null,
      "outputs": []
    },
    {
      "cell_type": "code",
      "source": [
        "def clean_data2(df1):\n",
        "  clean_df = input\n",
        "\n",
        "  lab = LabelEncoder()\n",
        "  clean_df['type_acc'] = lab.fit_transform(clean_df['type_acc'])\n",
        "  clean_df['cnd_acc'] = lab.fit_transform(clean_df['cnd_acc'])\n",
        "  clean_df['scene_acc'] = lab.fit_transform(clean_df['scene_acc'])\n",
        "  clean_df['road_surface'] = lab.fit_transform(clean_df['road_surface'])\n",
        "\n",
        "  return clean_df"
      ],
      "metadata": {
        "id": "dzzdElhq-VKG"
      },
      "execution_count": null,
      "outputs": []
    },
    {
      "cell_type": "code",
      "source": [
        "#@markdown <h3> กรอกข้อมูลการเกิดอุบัติเหตุ </h3>\n",
        "type_acc = \"\\u0E23\\u0E16\\u0E1A\\u0E23\\u0E23\\u0E17\\u0E38\\u0E01 6 \\u0E25\\u0E49\\u0E2D\" #@param ['รถยนต์นั่งส่วนบุคคล/รถยนต์นั่งสาธารณะ', 'รถปิคอัพบรรทุก 4 ล้อ','รถจักรยานยนต์','รถบรรทุกมากกว่า 10 ล้อ (รถพ่วง)','รถบรรทุก 6 ล้อ','รถบรรทุกมากกว่า 6 ล้อ ไม่เกิน 10 ล้อ','รถตู้','รถโดยสารขนาดใหญ่','รถปิคอัพโดยสาร','อื่นๆ']{allow-input: true}                            \n",
        "cnd_acc =  \"Fair\"#@param ['Fair', 'Mostly Cloudy', 'Partly Cloudy', 'Light Rain', 'Fog','Haze', 'Cloudy', 'Showers in the Vicinity','Light Rain with Thunder', 'T-Storm / Windy', 'T-Storm','Light Rain Shower', 'Thunder', 'Heavy Rain', 'Rain','Heavy T-Storm', 'Fair / Windy', 'Light Rain Shower / Windy','Partly Cloudy / Windy', 'Smoke', 'Rain / Windy','Light Rain / Windy', 'Mostly Cloudy / Windy','Thunder in the Vicinity'] {allow-input: true}\n",
        "day_acc    =  \"24\"#@param['1', '2', '3', '4', '5', '6', '7', '8', '9', '10', '11', '12','13', '14', '15', '16', '17', '18', '19', '20', '21', '22', '23','24', '25', '26', '27', '28', '29', '30', '31'] {allow-input: true}\n",
        "month_acc =  \"12\"#@param ['1', '2', '3', '4', '5', '6', '7', '8', '9', '10', '11', '12'] {allow-input: true}\n",
        "years_acc =  \"2022\"#@param['2019', '2020', '2021', '2022']{allow-input: true}\n",
        "scene_acc\t =  \"\\u0E17\\u0E32\\u0E07\\u0E2A\\u0E32\\u0E21\\u0E41\\u0E22\\u0E01 (Y)\"#@param['อื่นๆ', 'ทางตรง', 'ทางโค้งกว้าง', 'ทางแยกต่างระดับ/Ramps','ทางเชื่อมเข้าพื้นที่สาธารณะ/เชิงพาณิชย์', 'ทางโค้งหักศอก','ทางสามแยก (Y)', 'ทางร่วม', 'ทางสามแยก (T)', 'จุดกลับรถต่างระดับ','ทางเชื่อมเข้าพื้นที่ส่วนบุคคล', 'ทางสี่แยก'] {allow-input: true}\n",
        "road_surface\t = \"\\u0E44\\u0E21\\u0E48\\u0E21\\u0E35\\u0E04\\u0E27\\u0E32\\u0E21\\u0E25\\u0E32\\u0E14\\u0E0A\\u0E31\\u0E19\" #@param ['ไม่มีความลาดชัน', 'ที่ลาดชัน'] {allow-input: true}\n",
        "time_acc = \"1\"#@param['0', '1', '2', '3', '4', '5'] {allow-input: true}\n",
        "# Rental_Yield\t =  3.75#@param {type:\"number\"} {allow-input: true}\n",
        "input = input_data(type_acc, cnd_acc, day_acc ,month_acc, years_acc , scene_acc,road_surface, time_acc )\n",
        "clean_input = clean_data2(input)\n",
        "# clean_df2=clean_df.drop('Sale_Price_Sqm', axis=1).copy()\n",
        "# clean_input1= clean_input1.reindex(labels=clean_df2.columns,axis=1)\n",
        "# clean_input2 = clean_input1.fillna(0)\n",
        "# clean_input3 = scaler.transform(clean_input2)\n",
        "predictions = gb.predict(clean_input)\n",
        "# predict = rdfr2.predict(clean_input3)\n",
        "print('ระดับความรุนแรงของอุบัติเหตุ =', predictions)"
      ],
      "metadata": {
        "colab": {
          "base_uri": "https://localhost:8080/"
        },
        "id": "J92TuvOm5PPX",
        "outputId": "d24fb909-391c-4c82-8d2a-214107c112a0",
        "cellView": "form"
      },
      "execution_count": null,
      "outputs": [
        {
          "output_type": "stream",
          "name": "stdout",
          "text": [
            "ระดับความรุนแรงของอุบัติเหตุ = ['ACC']\n"
          ]
        }
      ]
    },
    {
      "cell_type": "markdown",
      "source": [
        "----------------"
      ],
      "metadata": {
        "id": "aJY-xo_Jkc1M"
      }
    },
    {
      "cell_type": "markdown",
      "source": [
        "#เตรียมชุดข้อมูลสำหรับการทำ Association Rule Mining"
      ],
      "metadata": {
        "id": "hbT-U8lEqSZF"
      }
    },
    {
      "cell_type": "code",
      "source": [
        "df_ARM = df.copy()"
      ],
      "metadata": {
        "id": "HUvrW4mvoKlt"
      },
      "execution_count": null,
      "outputs": []
    },
    {
      "cell_type": "code",
      "source": [
        "# Filter all rows with  level_acc \n",
        "df_ARM1 = df_ARM.query(\" level_acc == 'DIE' \")\n",
        "df_ARM2 = df_ARM.query(\" level_acc == 'INJ' \")\n",
        "df_ARM3 = df_ARM.query(\" level_acc == 'ACC' \")"
      ],
      "metadata": {
        "id": "e5iV4FZfq7XP"
      },
      "execution_count": null,
      "outputs": []
    },
    {
      "cell_type": "code",
      "source": [
        "from google.colab import files\n",
        "df_ARM1.to_csv('level_acc_DIE.csv') \n",
        "files.download('level_acc_DIE.csv')"
      ],
      "metadata": {
        "id": "LIy9yCQbssUy",
        "colab": {
          "base_uri": "https://localhost:8080/",
          "height": 17
        },
        "outputId": "1bad2aee-ecf1-4154-b579-b1e8449f25fc"
      },
      "execution_count": null,
      "outputs": [
        {
          "output_type": "display_data",
          "data": {
            "text/plain": [
              "<IPython.core.display.Javascript object>"
            ],
            "application/javascript": [
              "\n",
              "    async function download(id, filename, size) {\n",
              "      if (!google.colab.kernel.accessAllowed) {\n",
              "        return;\n",
              "      }\n",
              "      const div = document.createElement('div');\n",
              "      const label = document.createElement('label');\n",
              "      label.textContent = `Downloading \"${filename}\": `;\n",
              "      div.appendChild(label);\n",
              "      const progress = document.createElement('progress');\n",
              "      progress.max = size;\n",
              "      div.appendChild(progress);\n",
              "      document.body.appendChild(div);\n",
              "\n",
              "      const buffers = [];\n",
              "      let downloaded = 0;\n",
              "\n",
              "      const channel = await google.colab.kernel.comms.open(id);\n",
              "      // Send a message to notify the kernel that we're ready.\n",
              "      channel.send({})\n",
              "\n",
              "      for await (const message of channel.messages) {\n",
              "        // Send a message to notify the kernel that we're ready.\n",
              "        channel.send({})\n",
              "        if (message.buffers) {\n",
              "          for (const buffer of message.buffers) {\n",
              "            buffers.push(buffer);\n",
              "            downloaded += buffer.byteLength;\n",
              "            progress.value = downloaded;\n",
              "          }\n",
              "        }\n",
              "      }\n",
              "      const blob = new Blob(buffers, {type: 'application/binary'});\n",
              "      const a = document.createElement('a');\n",
              "      a.href = window.URL.createObjectURL(blob);\n",
              "      a.download = filename;\n",
              "      div.appendChild(a);\n",
              "      a.click();\n",
              "      div.remove();\n",
              "    }\n",
              "  "
            ]
          },
          "metadata": {}
        },
        {
          "output_type": "display_data",
          "data": {
            "text/plain": [
              "<IPython.core.display.Javascript object>"
            ],
            "application/javascript": [
              "download(\"download_dbe13e36-9370-4531-ad87-44e547a95208\", \"level_acc_DIE.csv\", 22602)"
            ]
          },
          "metadata": {}
        }
      ]
    },
    {
      "cell_type": "code",
      "source": [
        "df_ARM2.to_csv('level_acc_INJ.csv') \n",
        "files.download('level_acc_INJ.csv')"
      ],
      "metadata": {
        "id": "yULZUHCnsVEl",
        "colab": {
          "base_uri": "https://localhost:8080/",
          "height": 17
        },
        "outputId": "574162cc-0150-44ac-d138-45d5547222df"
      },
      "execution_count": null,
      "outputs": [
        {
          "output_type": "display_data",
          "data": {
            "text/plain": [
              "<IPython.core.display.Javascript object>"
            ],
            "application/javascript": [
              "\n",
              "    async function download(id, filename, size) {\n",
              "      if (!google.colab.kernel.accessAllowed) {\n",
              "        return;\n",
              "      }\n",
              "      const div = document.createElement('div');\n",
              "      const label = document.createElement('label');\n",
              "      label.textContent = `Downloading \"${filename}\": `;\n",
              "      div.appendChild(label);\n",
              "      const progress = document.createElement('progress');\n",
              "      progress.max = size;\n",
              "      div.appendChild(progress);\n",
              "      document.body.appendChild(div);\n",
              "\n",
              "      const buffers = [];\n",
              "      let downloaded = 0;\n",
              "\n",
              "      const channel = await google.colab.kernel.comms.open(id);\n",
              "      // Send a message to notify the kernel that we're ready.\n",
              "      channel.send({})\n",
              "\n",
              "      for await (const message of channel.messages) {\n",
              "        // Send a message to notify the kernel that we're ready.\n",
              "        channel.send({})\n",
              "        if (message.buffers) {\n",
              "          for (const buffer of message.buffers) {\n",
              "            buffers.push(buffer);\n",
              "            downloaded += buffer.byteLength;\n",
              "            progress.value = downloaded;\n",
              "          }\n",
              "        }\n",
              "      }\n",
              "      const blob = new Blob(buffers, {type: 'application/binary'});\n",
              "      const a = document.createElement('a');\n",
              "      a.href = window.URL.createObjectURL(blob);\n",
              "      a.download = filename;\n",
              "      div.appendChild(a);\n",
              "      a.click();\n",
              "      div.remove();\n",
              "    }\n",
              "  "
            ]
          },
          "metadata": {}
        },
        {
          "output_type": "display_data",
          "data": {
            "text/plain": [
              "<IPython.core.display.Javascript object>"
            ],
            "application/javascript": [
              "download(\"download_1a204c6d-3fe5-4f52-8423-b36e85395009\", \"level_acc_INJ.csv\", 400768)"
            ]
          },
          "metadata": {}
        }
      ]
    },
    {
      "cell_type": "code",
      "source": [
        "df_ARM3.to_csv('level_acc_ACC.csv') \n",
        "files.download('level_acc_ACC.csv')"
      ],
      "metadata": {
        "id": "Y7g1uEhPsa8G",
        "colab": {
          "base_uri": "https://localhost:8080/",
          "height": 17
        },
        "outputId": "2270114a-0607-4b00-d659-94224ed5549d"
      },
      "execution_count": null,
      "outputs": [
        {
          "output_type": "display_data",
          "data": {
            "text/plain": [
              "<IPython.core.display.Javascript object>"
            ],
            "application/javascript": [
              "\n",
              "    async function download(id, filename, size) {\n",
              "      if (!google.colab.kernel.accessAllowed) {\n",
              "        return;\n",
              "      }\n",
              "      const div = document.createElement('div');\n",
              "      const label = document.createElement('label');\n",
              "      label.textContent = `Downloading \"${filename}\": `;\n",
              "      div.appendChild(label);\n",
              "      const progress = document.createElement('progress');\n",
              "      progress.max = size;\n",
              "      div.appendChild(progress);\n",
              "      document.body.appendChild(div);\n",
              "\n",
              "      const buffers = [];\n",
              "      let downloaded = 0;\n",
              "\n",
              "      const channel = await google.colab.kernel.comms.open(id);\n",
              "      // Send a message to notify the kernel that we're ready.\n",
              "      channel.send({})\n",
              "\n",
              "      for await (const message of channel.messages) {\n",
              "        // Send a message to notify the kernel that we're ready.\n",
              "        channel.send({})\n",
              "        if (message.buffers) {\n",
              "          for (const buffer of message.buffers) {\n",
              "            buffers.push(buffer);\n",
              "            downloaded += buffer.byteLength;\n",
              "            progress.value = downloaded;\n",
              "          }\n",
              "        }\n",
              "      }\n",
              "      const blob = new Blob(buffers, {type: 'application/binary'});\n",
              "      const a = document.createElement('a');\n",
              "      a.href = window.URL.createObjectURL(blob);\n",
              "      a.download = filename;\n",
              "      div.appendChild(a);\n",
              "      a.click();\n",
              "      div.remove();\n",
              "    }\n",
              "  "
            ]
          },
          "metadata": {}
        },
        {
          "output_type": "display_data",
          "data": {
            "text/plain": [
              "<IPython.core.display.Javascript object>"
            ],
            "application/javascript": [
              "download(\"download_24b4813b-5848-471d-8522-a2c0f22a6987\", \"level_acc_ACC.csv\", 900608)"
            ]
          },
          "metadata": {}
        }
      ]
    }
  ]
}